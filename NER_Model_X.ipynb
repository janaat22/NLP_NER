{
  "nbformat": 4,
  "nbformat_minor": 0,
  "metadata": {
    "colab": {
      "name": "NER_Model_X.ipynb",
      "provenance": [],
      "toc_visible": true,
      "include_colab_link": true
    },
    "kernelspec": {
      "name": "python3",
      "display_name": "Python 3"
    }
  },
  "cells": [
    {
      "cell_type": "markdown",
      "metadata": {
        "id": "view-in-github",
        "colab_type": "text"
      },
      "source": [
        "<a href=\"https://colab.research.google.com/github/janaat22/NLP_NER/blob/master/NER_Model_X.ipynb\" target=\"_parent\"><img src=\"https://colab.research.google.com/assets/colab-badge.svg\" alt=\"Open In Colab\"/></a>"
      ]
    },
    {
      "cell_type": "code",
      "metadata": {
        "id": "PrGaB4fxws8Z",
        "colab_type": "code",
        "colab": {}
      },
      "source": [
        "%matplotlib inline\n",
        "import matplotlib.pyplot as plt\n",
        "plt.style.use('ggplot')\n"
      ],
      "execution_count": 0,
      "outputs": []
    },
    {
      "cell_type": "code",
      "metadata": {
        "id": "e6ka8aPGPTba",
        "colab_type": "code",
        "outputId": "ffa3f34e-8ddb-41d4-b7de-a32956c1858f",
        "colab": {
          "base_uri": "https://localhost:8080/",
          "height": 118
        }
      },
      "source": [
        "pip install sklearn-crfsuite\n"
      ],
      "execution_count": 37,
      "outputs": [
        {
          "output_type": "stream",
          "text": [
            "Requirement already satisfied: sklearn-crfsuite in /usr/local/lib/python3.6/dist-packages (0.3.6)\n",
            "Requirement already satisfied: six in /usr/local/lib/python3.6/dist-packages (from sklearn-crfsuite) (1.12.0)\n",
            "Requirement already satisfied: tabulate in /usr/local/lib/python3.6/dist-packages (from sklearn-crfsuite) (0.8.6)\n",
            "Requirement already satisfied: python-crfsuite>=0.8.3 in /usr/local/lib/python3.6/dist-packages (from sklearn-crfsuite) (0.9.6)\n",
            "Requirement already satisfied: tqdm>=2.0 in /usr/local/lib/python3.6/dist-packages (from sklearn-crfsuite) (4.28.1)\n"
          ],
          "name": "stdout"
        }
      ]
    },
    {
      "cell_type": "code",
      "metadata": {
        "id": "6dsA4N1aa2bw",
        "colab_type": "code",
        "outputId": "bfe2da18-9e9f-4854-c73c-ab5591faa5a6",
        "colab": {
          "base_uri": "https://localhost:8080/",
          "height": 50
        }
      },
      "source": [
        "pip install nltk"
      ],
      "execution_count": 38,
      "outputs": [
        {
          "output_type": "stream",
          "text": [
            "Requirement already satisfied: nltk in /usr/local/lib/python3.6/dist-packages (3.2.5)\n",
            "Requirement already satisfied: six in /usr/local/lib/python3.6/dist-packages (from nltk) (1.12.0)\n"
          ],
          "name": "stdout"
        }
      ]
    },
    {
      "cell_type": "code",
      "metadata": {
        "id": "BjLm8hkPostl",
        "colab_type": "code",
        "colab": {}
      },
      "source": [
        "import nltk"
      ],
      "execution_count": 0,
      "outputs": []
    },
    {
      "cell_type": "code",
      "metadata": {
        "id": "thJDwo1WPRqB",
        "colab_type": "code",
        "outputId": "a23064a7-9ddd-4603-bcd1-907fd7030396",
        "colab": {
          "base_uri": "https://localhost:8080/",
          "height": 66
        }
      },
      "source": [
        "nltk.download('wordnet')"
      ],
      "execution_count": 40,
      "outputs": [
        {
          "output_type": "stream",
          "text": [
            "[nltk_data] Downloading package wordnet to /root/nltk_data...\n",
            "[nltk_data]   Package wordnet is already up-to-date!\n"
          ],
          "name": "stdout"
        },
        {
          "output_type": "execute_result",
          "data": {
            "text/plain": [
              "True"
            ]
          },
          "metadata": {
            "tags": []
          },
          "execution_count": 40
        }
      ]
    },
    {
      "cell_type": "code",
      "metadata": {
        "id": "2O9l5LQBWW7x",
        "colab_type": "code",
        "outputId": "d4b9b168-3cb5-4190-b48d-b2786493e8f4",
        "colab": {
          "base_uri": "https://localhost:8080/",
          "height": 66
        }
      },
      "source": [
        "nltk.download('gazetteers')"
      ],
      "execution_count": 41,
      "outputs": [
        {
          "output_type": "stream",
          "text": [
            "[nltk_data] Downloading package gazetteers to /root/nltk_data...\n",
            "[nltk_data]   Package gazetteers is already up-to-date!\n"
          ],
          "name": "stdout"
        },
        {
          "output_type": "execute_result",
          "data": {
            "text/plain": [
              "True"
            ]
          },
          "metadata": {
            "tags": []
          },
          "execution_count": 41
        }
      ]
    },
    {
      "cell_type": "code",
      "metadata": {
        "id": "jImbwdA2Yh_H",
        "colab_type": "code",
        "outputId": "32a40517-d513-403c-e84f-2770e2134f8f",
        "colab": {
          "base_uri": "https://localhost:8080/",
          "height": 66
        }
      },
      "source": [
        "nltk.download('names')"
      ],
      "execution_count": 42,
      "outputs": [
        {
          "output_type": "stream",
          "text": [
            "[nltk_data] Downloading package names to /root/nltk_data...\n",
            "[nltk_data]   Package names is already up-to-date!\n"
          ],
          "name": "stdout"
        },
        {
          "output_type": "execute_result",
          "data": {
            "text/plain": [
              "True"
            ]
          },
          "metadata": {
            "tags": []
          },
          "execution_count": 42
        }
      ]
    },
    {
      "cell_type": "code",
      "metadata": {
        "id": "mTWW3NnewSjd",
        "colab_type": "code",
        "colab": {}
      },
      "source": [
        "from itertools import chain\n",
        "\n",
        "import nltk\n",
        "import sklearn\n",
        "import scipy.stats\n",
        "#Modeling\n",
        "from sklearn.model_selection import cross_val_predict, cross_val_score\n",
        "from sklearn.model_selection import train_test_split\n",
        "from sklearn.model_selection import learning_curve, GridSearchCV\n",
        "from sklearn.model_selection import RandomizedSearchCV\n",
        "#from sklearn_crfsuite import CRF, scorers, metrics\n",
        "import sklearn_crfsuite\n",
        "from sklearn_crfsuite import CRF\n",
        "from sklearn_crfsuite import scorers\n",
        "from sklearn_crfsuite import metrics\n",
        "from sklearn_crfsuite.metrics import flat_classification_report\n",
        "from sklearn.metrics import classification_report, make_scorer\n",
        "\n",
        "from nltk.stem.porter import *\n",
        "from nltk.stem import SnowballStemmer\n",
        "from nltk.stem import WordNetLemmatizer\n",
        "\n",
        "from nltk.corpus import names, ieer, gazetteers"
      ],
      "execution_count": 0,
      "outputs": []
    },
    {
      "cell_type": "code",
      "metadata": {
        "id": "Rt5VOIA4WOUC",
        "colab_type": "code",
        "colab": {}
      },
      "source": [
        "locations = gazetteers.words()\n",
        "locations = [x.lower() for x in locations]\n",
        "names_list = names.words()\n",
        "names_list = [x.lower() for x in names_list]"
      ],
      "execution_count": 0,
      "outputs": []
    },
    {
      "cell_type": "code",
      "metadata": {
        "id": "_PI9CoHKWZej",
        "colab_type": "code",
        "outputId": "c85b6748-467c-443f-de77-ac2525527079",
        "colab": {
          "base_uri": "https://localhost:8080/",
          "height": 33
        }
      },
      "source": [
        "word = 'LA'\n",
        "word.lower() in locations"
      ],
      "execution_count": 45,
      "outputs": [
        {
          "output_type": "execute_result",
          "data": {
            "text/plain": [
              "True"
            ]
          },
          "metadata": {
            "tags": []
          },
          "execution_count": 45
        }
      ]
    },
    {
      "cell_type": "code",
      "metadata": {
        "id": "FRc0x0xJQmI_",
        "colab_type": "code",
        "outputId": "8f3a7609-212a-435a-e2bb-786868fd1cfa",
        "colab": {
          "base_uri": "https://localhost:8080/",
          "height": 131
        }
      },
      "source": [
        "import pandas as pd\n",
        "import numpy as np\n",
        "import nltk\n",
        "nltk.download('punkt')\n",
        "nltk.download('averaged_perceptron_tagger')"
      ],
      "execution_count": 46,
      "outputs": [
        {
          "output_type": "stream",
          "text": [
            "[nltk_data] Downloading package punkt to /root/nltk_data...\n",
            "[nltk_data]   Package punkt is already up-to-date!\n",
            "[nltk_data] Downloading package averaged_perceptron_tagger to\n",
            "[nltk_data]     /root/nltk_data...\n",
            "[nltk_data]   Package averaged_perceptron_tagger is already up-to-\n",
            "[nltk_data]       date!\n"
          ],
          "name": "stdout"
        },
        {
          "output_type": "execute_result",
          "data": {
            "text/plain": [
              "True"
            ]
          },
          "metadata": {
            "tags": []
          },
          "execution_count": 46
        }
      ]
    },
    {
      "cell_type": "code",
      "metadata": {
        "id": "Hrv4xwf5Q3s4",
        "colab_type": "code",
        "colab": {}
      },
      "source": [
        "\n",
        "\n",
        "def file_to_list(file_name):  \n",
        "  training_key_value = []\n",
        "  word_dict = {}\n",
        "  tags = {}\n",
        "  word_list = []\n",
        "  sentence = 1\n",
        "  file1 = open(file_name, 'r')\n",
        "  Lines = file1.readlines() \n",
        "  for line in Lines:    \n",
        "    training_key_value = line.split()\n",
        "    if(len(training_key_value) == 2):\n",
        "      word = training_key_value[0]\n",
        "      tag = training_key_value[1]\n",
        "      word_dict[word] = tag\n",
        "      tokenized = nltk.word_tokenize(word)\n",
        "      tagged = nltk.pos_tag(tokenized)\n",
        "      word_list.append(([sentence, word, tagged[0][1], tag])) \n",
        "      tags.update(tagged)\n",
        "    else:\n",
        "      sentence = sentence + 1\n",
        "    file1.close()\n",
        "  return word_dict,word_list\n",
        "\n",
        "#Train data\n",
        "word_dict_train, word_list_train = file_to_list('train.txt')\n",
        "# print(word_dict_train.keys())\n",
        "# array_of_words_train = np.array(list(word_dict_train.keys()))\n",
        "# array_of_values_train = np.array(list(word_dict_train.values()))\n",
        "# X_Y_train = np.column_stack((array_of_words_train, array_of_values_train))\n",
        "\n",
        "#Dev data\n",
        "word_dict_dev,word_list_dev = file_to_list('dev.txt')\n",
        "# array_of_words_dev = np.array(list(word_dict_dev.keys()))\n",
        "# array_of_values_dev = np.array(list(word_dict_dev.values()))\n",
        "# X_Y_dev = np.column_stack((array_of_words_dev, array_of_values_dev))\n",
        "\n",
        "\n"
      ],
      "execution_count": 0,
      "outputs": []
    },
    {
      "cell_type": "code",
      "metadata": {
        "id": "l66r5zeKounW",
        "colab_type": "code",
        "colab": {}
      },
      "source": [
        "def file_to_list_test(file_name):  \n",
        "  training_key_value = []\n",
        "  word_dict = {}  \n",
        "  word_list = []\n",
        "  training_key_value = [] \n",
        "  test_word_list = []\n",
        "  file1 = open(file_name, 'r')\n",
        "  sentence_num = 1\n",
        "  Lines = file1.readlines() \n",
        "  # print(\"print\" + str(len(Lines[11].split('\\n'))))\n",
        "  for line in Lines:    \n",
        "    if(len(line) > 1):      \n",
        "      word = line.replace('\\n', '')\n",
        "      tokenized = nltk.word_tokenize(word)\n",
        "      tagged = nltk.pos_tag(tokenized)\n",
        "      # print(sentence_num)\n",
        "      test_word_list.append(([sentence_num, word, tagged[0][1]]))\n",
        "    else:\n",
        "      # print(\"\\nelse\")\n",
        "      sentence_num = sentence_num + 1\n",
        "  file1.close()\n",
        "  return test_word_list\n",
        "\n",
        "\n",
        "\n",
        "#Test data\n",
        "word_list_test = file_to_list_test('test_no_tag.txt')\n"
      ],
      "execution_count": 0,
      "outputs": []
    },
    {
      "cell_type": "code",
      "metadata": {
        "id": "u0rkLgvaS1U8",
        "colab_type": "code",
        "outputId": "02423752-4c9a-4a8b-d994-f680c8cda691",
        "colab": {
          "base_uri": "https://localhost:8080/",
          "height": 261
        }
      },
      "source": [
        "train_data = pd.DataFrame(word_list_train)\n",
        "print(train_data.head(n = 4))\n",
        "\n",
        "dev_data = pd.DataFrame(word_list_dev)\n",
        "print(dev_data.head(n = 4))\n",
        "\n",
        "\n",
        "test_data = pd.DataFrame(word_list_test)\n",
        "print(test_data.head(n = 4))\n",
        "# print(word_list_test)"
      ],
      "execution_count": 49,
      "outputs": [
        {
          "output_type": "stream",
          "text": [
            "   0                1    2  3\n",
            "0  1  @SammieLynnsMom   NN  O\n",
            "1  1         @tg10781   NN  O\n",
            "2  1             they  PRP  O\n",
            "3  1             will   MD  O\n",
            "   0       1   2  3\n",
            "0  1    STOP  NN  O\n",
            "1  1    WHAT  WP  O\n",
            "2  1  YOU'RE  NN  O\n",
            "3  1   DOING  NN  O\n",
            "   0       1    2\n",
            "0  1      We  PRP\n",
            "1  1     're  VBP\n",
            "2  1  slaves  NNS\n",
            "3  1      to   TO\n"
          ],
          "name": "stdout"
        }
      ]
    },
    {
      "cell_type": "code",
      "metadata": {
        "id": "6ji8x2h_UjQ0",
        "colab_type": "code",
        "outputId": "8e49c9e4-71c8-4745-e81b-64ca9bd0dbbf",
        "colab": {
          "base_uri": "https://localhost:8080/",
          "height": 335
        }
      },
      "source": [
        "# train_data.columns = train_data.iloc[0]\n",
        "# train_data = train_data[1:]\n",
        "train_data.columns = ['Sentence','Word','POS','Tag']\n",
        "# train_data = train_data.reset_index(drop=True)\n",
        "#train_data.head(n=5)\n",
        "\n",
        "# dev_data.columns = dev_data.iloc[0]\n",
        "# dev_data = dev_data[1:]\n",
        "dev_data.columns = ['Sentence','Word','POS','Tag']\n",
        "# dev_data = dev_data.reset_index(drop=True)\n",
        "#dev_data.head(n=5)\n",
        "\n",
        "# test_data.columns = test_data.iloc[0]\n",
        "# test_data = test_data[1:]\n",
        "test_data.columns = ['Sentence','Word','POS']\n",
        "# test_data = test_data.reset_index(drop=True)\n",
        "test_data.head(n= 10)\n"
      ],
      "execution_count": 50,
      "outputs": [
        {
          "output_type": "execute_result",
          "data": {
            "text/html": [
              "<div>\n",
              "<style scoped>\n",
              "    .dataframe tbody tr th:only-of-type {\n",
              "        vertical-align: middle;\n",
              "    }\n",
              "\n",
              "    .dataframe tbody tr th {\n",
              "        vertical-align: top;\n",
              "    }\n",
              "\n",
              "    .dataframe thead th {\n",
              "        text-align: right;\n",
              "    }\n",
              "</style>\n",
              "<table border=\"1\" class=\"dataframe\">\n",
              "  <thead>\n",
              "    <tr style=\"text-align: right;\">\n",
              "      <th></th>\n",
              "      <th>Sentence</th>\n",
              "      <th>Word</th>\n",
              "      <th>POS</th>\n",
              "    </tr>\n",
              "  </thead>\n",
              "  <tbody>\n",
              "    <tr>\n",
              "      <th>0</th>\n",
              "      <td>1</td>\n",
              "      <td>We</td>\n",
              "      <td>PRP</td>\n",
              "    </tr>\n",
              "    <tr>\n",
              "      <th>1</th>\n",
              "      <td>1</td>\n",
              "      <td>'re</td>\n",
              "      <td>VBP</td>\n",
              "    </tr>\n",
              "    <tr>\n",
              "      <th>2</th>\n",
              "      <td>1</td>\n",
              "      <td>slaves</td>\n",
              "      <td>NNS</td>\n",
              "    </tr>\n",
              "    <tr>\n",
              "      <th>3</th>\n",
              "      <td>1</td>\n",
              "      <td>to</td>\n",
              "      <td>TO</td>\n",
              "    </tr>\n",
              "    <tr>\n",
              "      <th>4</th>\n",
              "      <td>1</td>\n",
              "      <td>a</td>\n",
              "      <td>DT</td>\n",
              "    </tr>\n",
              "    <tr>\n",
              "      <th>5</th>\n",
              "      <td>1</td>\n",
              "      <td>world</td>\n",
              "      <td>NN</td>\n",
              "    </tr>\n",
              "    <tr>\n",
              "      <th>6</th>\n",
              "      <td>1</td>\n",
              "      <td>we</td>\n",
              "      <td>PRP</td>\n",
              "    </tr>\n",
              "    <tr>\n",
              "      <th>7</th>\n",
              "      <td>1</td>\n",
              "      <td>mastered</td>\n",
              "      <td>VBN</td>\n",
              "    </tr>\n",
              "    <tr>\n",
              "      <th>8</th>\n",
              "      <td>1</td>\n",
              "      <td>.</td>\n",
              "      <td>.</td>\n",
              "    </tr>\n",
              "    <tr>\n",
              "      <th>9</th>\n",
              "      <td>2</td>\n",
              "      <td>I</td>\n",
              "      <td>PRP</td>\n",
              "    </tr>\n",
              "  </tbody>\n",
              "</table>\n",
              "</div>"
            ],
            "text/plain": [
              "   Sentence      Word  POS\n",
              "0         1        We  PRP\n",
              "1         1       're  VBP\n",
              "2         1    slaves  NNS\n",
              "3         1        to   TO\n",
              "4         1         a   DT\n",
              "5         1     world   NN\n",
              "6         1        we  PRP\n",
              "7         1  mastered  VBN\n",
              "8         1         .    .\n",
              "9         2         I  PRP"
            ]
          },
          "metadata": {
            "tags": []
          },
          "execution_count": 50
        }
      ]
    },
    {
      "cell_type": "code",
      "metadata": {
        "id": "9_9RMWAP1JO5",
        "colab_type": "code",
        "outputId": "bdf0e605-ec48-497b-adec-b6cf6d90f207",
        "colab": {
          "base_uri": "https://localhost:8080/",
          "height": 33
        }
      },
      "source": [
        "test_data.shape"
      ],
      "execution_count": 51,
      "outputs": [
        {
          "output_type": "execute_result",
          "data": {
            "text/plain": [
              "(42413, 3)"
            ]
          },
          "metadata": {
            "tags": []
          },
          "execution_count": 51
        }
      ]
    },
    {
      "cell_type": "code",
      "metadata": {
        "id": "QkRTyTd9Uo9h",
        "colab_type": "code",
        "colab": {}
      },
      "source": [
        "# A class to retrieve the sentences from the dataset\n",
        "class getsentence(object):\n",
        "    \n",
        "    def __init__(self, data):\n",
        "        self.n_sent = 1.0\n",
        "        self.data = data\n",
        "        self.empty = False\n",
        "        agg_func = lambda s: [(w, p, t) for w, p, t in zip(s[\"Word\"].values.tolist(),\n",
        "                                                           s[\"POS\"].values.tolist(),\n",
        "                                                           s[\"Tag\"].values.tolist())]\n",
        "        self.grouped = self.data.groupby(\"Sentence\").apply(agg_func)\n",
        "        self.sentences = [s for s in self.grouped]\n",
        "\n",
        "class getsentence_ForTest(object):\n",
        "    \n",
        "    def __init__(self, data):\n",
        "        self.n_sent = 1.0\n",
        "        self.data = data\n",
        "        self.empty = False\n",
        "        agg_func = lambda s: [(w, p) for w, p in zip(s[\"Word\"].values.tolist(),\n",
        "                                                           s[\"POS\"].values.tolist())\n",
        "                                                      ]\n",
        "        self.grouped = self.data.groupby(\"Sentence\").apply(agg_func)\n",
        "        self.sentences = [s for s in self.grouped]"
      ],
      "execution_count": 0,
      "outputs": []
    },
    {
      "cell_type": "code",
      "metadata": {
        "id": "c7FvegeoWp-5",
        "colab_type": "code",
        "outputId": "d7a1c4a3-9015-4324-91b0-e1d5dc63d775",
        "colab": {
          "base_uri": "https://localhost:8080/",
          "height": 53
        }
      },
      "source": [
        "train_getter = getsentence(train_data)\n",
        "train_sentences = train_getter.sentences\n",
        "\n",
        "dev_getter = getsentence(dev_data)\n",
        "dev_sentences = dev_getter.sentences\n",
        "\n",
        "test_getter = getsentence_ForTest(test_data)\n",
        "test_sentences = test_getter.sentences\n",
        "\n",
        "#This is how a sentence will look like. \n",
        "print(train_sentences[0])"
      ],
      "execution_count": 53,
      "outputs": [
        {
          "output_type": "stream",
          "text": [
            "[('@SammieLynnsMom', 'NN', 'O'), ('@tg10781', 'NN', 'O'), ('they', 'PRP', 'O'), ('will', 'MD', 'O'), ('be', 'VB', 'O'), ('all', 'DT', 'O'), ('done', 'VBN', 'O'), ('by', 'IN', 'O'), ('Sunday', 'NNP', 'O'), ('trust', 'NN', 'O'), ('me', 'PRP', 'O'), ('*wink*', 'NN', 'O')]\n"
          ],
          "name": "stdout"
        }
      ]
    },
    {
      "cell_type": "code",
      "metadata": {
        "id": "4bZI96NRXMJZ",
        "colab_type": "code",
        "colab": {}
      },
      "source": [
        "stemmer = PorterStemmer()\n",
        "lemmatizer = WordNetLemmatizer()\n",
        "# Feature set\n",
        "def word2features(sent, i):\n",
        "    word = sent[i][0]\n",
        "    postag = sent[i][1]\n",
        "    \n",
        "    features = {\n",
        "        'bias': 1.0,\n",
        "        'word.lower()': word.lower(),\n",
        "        'word[-3:]': word[-3:],\n",
        "        'word[-2:]': word[-2:],\n",
        "        'word.isupper()': word.isupper(),\n",
        "        'word.istitle()': word.istitle(),\n",
        "        'word.isdigit()': word.isdigit(),\n",
        "        'postag': postag,\n",
        "        'postag[:2]': postag[:2],\n",
        "        'inLocations': word.lower() in locations,\n",
        "        'inNames' : word.lower() in names_list,\n",
        "        'isTag' : word.find('@'),\n",
        "        'hasCapitalLetter' : word[0].isupper(),\n",
        "        # 'stem' : stemmer.stem(word),        \n",
        "        'lemma' : lemmatizer.lemmatize(word),\n",
        "    }\n",
        "    if i > 0:\n",
        "        word1 = sent[i-1][0]\n",
        "        postag1 = sent[i-1][1]\n",
        "        features.update({\n",
        "            # '-1:word.lower()': word1.lower(),\n",
        "            '-1:word.istitle()': word1.istitle(),\n",
        "            '-1:word.isupper()': word1.isupper(),\n",
        "            '-1:postag': postag1,\n",
        "            '-1:postag[:2]': postag1[:2],\n",
        "            '-1:inLocations': word1.lower() in locations,\n",
        "            '-1:inNames' : word1.lower() in names_list,\n",
        "            '-1:hasCapitalLetter' : word1[0].isupper(),\n",
        "            # '-1:stem' : stemmer.stem(word1),            \n",
        "            '-1:lemma' : lemmatizer.lemmatize(word1),\n",
        "             \n",
        "        })\n",
        "    else:\n",
        "        features['BOS'] = True\n",
        "\n",
        "    if i < len(sent)-1:\n",
        "        word1 = sent[i+1][0]\n",
        "        postag1 = sent[i+1][1]\n",
        "        features.update({\n",
        "            # '+1:word.lower()': word1.lower(),\n",
        "            '+1:word.istitle()': word1.istitle(),\n",
        "            '+1:word.isupper()': word1.isupper(),\n",
        "            '+1:postag': postag1,\n",
        "            '+1:postag[:2]': postag1[:2],\n",
        "            '+1:inLocations': word1.lower() in locations,\n",
        "            '+1:inNames' : word1.lower() in names_list,\n",
        "            '+1:hasCapitalLetter' : word1[0].isupper(),\n",
        "            '+1:stem' : stemmer.stem(word1),            \n",
        "            '+1:lemma' : lemmatizer.lemmatize(word),\n",
        "        })\n",
        "    else:\n",
        "        features['EOS'] = True\n",
        "\n",
        "    return features\n",
        "\n",
        "\n",
        "def sent2features(sent):\n",
        "    return [word2features(sent, i) for i in range(len(sent))]\n",
        "\n",
        "def sent2labels(sent):\n",
        "    return [label for token, postag, label in sent]\n",
        "\n",
        "def sent2tokens(sent):\n",
        "    return [token for token, postag, label in sent]"
      ],
      "execution_count": 0,
      "outputs": []
    },
    {
      "cell_type": "code",
      "metadata": {
        "id": "viReG1-QHWmo",
        "colab_type": "code",
        "colab": {}
      },
      "source": [
        ""
      ],
      "execution_count": 0,
      "outputs": []
    },
    {
      "cell_type": "code",
      "metadata": {
        "id": "bDRJbpFeqDxp",
        "colab_type": "code",
        "outputId": "3eeee2f1-e902-4ac9-f03a-29e79703f743",
        "colab": {
          "base_uri": "https://localhost:8080/",
          "height": 443
        }
      },
      "source": [
        "print(test_sentences[5])\n",
        "sent2features(train_sentences[3])[0]\n",
        "# sent2features(test_sentences[7])[0]"
      ],
      "execution_count": 55,
      "outputs": [
        {
          "output_type": "stream",
          "text": [
            "[('Happy', 'JJ'), ('v-day', 'NN'), ('😌', 'NN'), ('❤', 'NN'), ('️', 'NN'), ('😂😂😂😂', 'NN'), ('#noshame', '#')]\n"
          ],
          "name": "stdout"
        },
        {
          "output_type": "execute_result",
          "data": {
            "text/plain": [
              "{'+1:hasCapitalLetter': False,\n",
              " '+1:inLocations': False,\n",
              " '+1:inNames': False,\n",
              " '+1:lemma': '@ls_n',\n",
              " '+1:postag': 'RB',\n",
              " '+1:postag[:2]': 'RB',\n",
              " '+1:stem': 'perhap',\n",
              " '+1:word.istitle()': False,\n",
              " '+1:word.isupper()': False,\n",
              " 'BOS': True,\n",
              " 'bias': 1.0,\n",
              " 'hasCapitalLetter': False,\n",
              " 'inLocations': False,\n",
              " 'inNames': False,\n",
              " 'isTag': 0,\n",
              " 'lemma': '@ls_n',\n",
              " 'postag': 'NN',\n",
              " 'postag[:2]': 'NN',\n",
              " 'word.isdigit()': False,\n",
              " 'word.istitle()': False,\n",
              " 'word.isupper()': False,\n",
              " 'word.lower()': '@ls_n',\n",
              " 'word[-2:]': '_n',\n",
              " 'word[-3:]': 's_n'}"
            ]
          },
          "metadata": {
            "tags": []
          },
          "execution_count": 55
        }
      ]
    },
    {
      "cell_type": "code",
      "metadata": {
        "id": "QBmR_UsEW5YZ",
        "colab_type": "code",
        "colab": {}
      },
      "source": [
        "#Creating the train and test set\n",
        "\n",
        "X_train = [sent2features(s) for s in train_sentences]\n",
        "y_train = [sent2labels(s) for s in train_sentences]\n",
        "\n",
        "X_dev = [sent2features(s) for s in dev_sentences]\n",
        "y_dev = [sent2labels(s) for s in dev_sentences]\n",
        "\n",
        "X_test = [sent2features(s) for s in test_sentences]\n"
      ],
      "execution_count": 0,
      "outputs": []
    },
    {
      "cell_type": "code",
      "metadata": {
        "id": "UleMIHP0X6Q2",
        "colab_type": "code",
        "colab": {}
      },
      "source": [
        "#Creating the CRF model\n",
        "crf = CRF(algorithm='lbfgs',\n",
        "          c1=0.1,\n",
        "          c2=0.1,\n",
        "          max_iterations=100,\n",
        "          all_possible_transitions=False)"
      ],
      "execution_count": 0,
      "outputs": []
    },
    {
      "cell_type": "code",
      "metadata": {
        "id": "w5xOekAmX9V8",
        "colab_type": "code",
        "colab": {}
      },
      "source": [
        "crf = crf.fit(X_train,y_train)"
      ],
      "execution_count": 0,
      "outputs": []
    },
    {
      "cell_type": "code",
      "metadata": {
        "id": "nzYVpfgI1ed2",
        "colab_type": "code",
        "outputId": "7c225594-4b51-4a70-b837-7bff5fb0f80a",
        "colab": {
          "base_uri": "https://localhost:8080/",
          "height": 70
        }
      },
      "source": [
        "pred = cross_val_predict(estimator=crf, X = X_train,y = y_train, cv=10)"
      ],
      "execution_count": 59,
      "outputs": [
        {
          "output_type": "stream",
          "text": [
            "/usr/local/lib/python3.6/dist-packages/sklearn/base.py:197: FutureWarning: From version 0.24, get_params will raise an AttributeError if a parameter cannot be retrieved as an instance attribute. Previously it would return None.\n",
            "  FutureWarning)\n"
          ],
          "name": "stderr"
        }
      ]
    },
    {
      "cell_type": "code",
      "metadata": {
        "id": "OwRdHqK72JXv",
        "colab_type": "code",
        "outputId": "e730c42e-91ed-449e-f25a-1c7792784a0e",
        "colab": {
          "base_uri": "https://localhost:8080/",
          "height": 375
        }
      },
      "source": [
        "#evaluate the model\n",
        "report = flat_classification_report(y_pred=pred, y_true=y_train)\n",
        "print(report)\n",
        "# f1 = metrics.flat_f1_score(y_train, y_pred, average='weighted', labels=labels)\n",
        "# print(\"F1 weighted avg: \" + str(f1))"
      ],
      "execution_count": 60,
      "outputs": [
        {
          "output_type": "stream",
          "text": [
            "              precision    recall  f1-score   support\n",
            "\n",
            "   B-company       0.86      0.47      0.61       171\n",
            "     B-group       0.62      0.17      0.27       106\n",
            "  B-location       0.77      0.55      0.64       380\n",
            "     B-other       0.53      0.25      0.34       225\n",
            "    B-person       0.79      0.64      0.71       449\n",
            "   B-product       0.80      0.21      0.33        97\n",
            "     B-title       0.52      0.21      0.29        68\n",
            "   I-company       0.50      0.11      0.18        36\n",
            "     I-group       0.44      0.14      0.22        84\n",
            "  I-location       0.60      0.35      0.44       154\n",
            "     I-other       0.44      0.29      0.35       320\n",
            "    I-person       0.77      0.72      0.74       215\n",
            "   I-product       0.71      0.19      0.30        80\n",
            "     I-title       0.44      0.19      0.27        77\n",
            "           O       0.97      0.99      0.98     44007\n",
            "\n",
            "    accuracy                           0.96     46469\n",
            "   macro avg       0.65      0.37      0.44     46469\n",
            "weighted avg       0.96      0.96      0.96     46469\n",
            "\n"
          ],
          "name": "stdout"
        }
      ]
    },
    {
      "cell_type": "code",
      "metadata": {
        "id": "POk26KMItTJs",
        "colab_type": "code",
        "outputId": "3e1691f7-2263-427f-8e3c-f1682878ab70",
        "colab": {
          "base_uri": "https://localhost:8080/",
          "height": 53
        }
      },
      "source": [
        "# labels = list(crf.classes_)\n",
        "\n",
        "# labels.remove('O')\n",
        "print(labels)\n"
      ],
      "execution_count": 62,
      "outputs": [
        {
          "output_type": "stream",
          "text": [
            "['B-location', 'I-location', 'B-title', 'I-title', 'B-company', 'B-product', 'B-person', 'B-other', 'I-other', 'B-group', 'I-group', 'I-product', 'I-company', 'I-person']\n"
          ],
          "name": "stdout"
        }
      ]
    },
    {
      "cell_type": "markdown",
      "metadata": {
        "id": "ybkKJgm949gA",
        "colab_type": "text"
      },
      "source": [
        ""
      ]
    },
    {
      "cell_type": "code",
      "metadata": {
        "id": "1bQ09BiitZR4",
        "colab_type": "code",
        "outputId": "4ca8e8e5-5202-4d58-95bb-fd87fe3f80a2",
        "colab": {
          "base_uri": "https://localhost:8080/",
          "height": 33
        }
      },
      "source": [
        "y_pred = crf.predict(X_dev)\n",
        "metrics.flat_f1_score(y_dev, y_pred,\n",
        "                      average='weighted', labels=labels)"
      ],
      "execution_count": 63,
      "outputs": [
        {
          "output_type": "execute_result",
          "data": {
            "text/plain": [
              "0.3116337377240361"
            ]
          },
          "metadata": {
            "tags": []
          },
          "execution_count": 63
        }
      ]
    },
    {
      "cell_type": "code",
      "metadata": {
        "id": "k6QeV_Ottu5O",
        "colab_type": "code",
        "outputId": "41b8210f-61c6-4a98-b742-090f262c3180",
        "colab": {
          "base_uri": "https://localhost:8080/",
          "height": 423
        }
      },
      "source": [
        "# group B and I results\n",
        "sorted_labels = sorted(\n",
        "    labels,\n",
        "    key=lambda name: (name[1:], name[0])\n",
        ")\n",
        "print(metrics.flat_classification_report(\n",
        "    y_dev, y_pred, labels=sorted_labels, digits=3\n",
        "))\n",
        "\n",
        "accuracy = metrics.flat_accuracy_score(y_dev, y_pred)\n",
        "print(\"Accuracy: \" + str(accuracy))\n",
        "f1 = metrics.flat_f1_score(y_dev, y_pred, average='weighted', labels=labels)\n",
        "precision = metrics.flat_precision_score(y_dev, y_pred, average='weighted', labels=labels)\n",
        "print(\"Precision : \"  + str(precision))\n",
        "\n",
        "recall = metrics.flat_recall_score(y_dev, y_pred, average='weighted', labels=labels)\n",
        "print(\"Recall : \" + str(recall))\n",
        "print(\"F1 weighted avg: \" + str(f1))"
      ],
      "execution_count": 64,
      "outputs": [
        {
          "output_type": "stream",
          "text": [
            "              precision    recall  f1-score   support\n",
            "\n",
            "   B-company      0.667     0.154     0.250        39\n",
            "   I-company      0.000     0.000     0.000        10\n",
            "     B-group      0.600     0.027     0.052       111\n",
            "     I-group      0.333     0.021     0.039        48\n",
            "  B-location      0.627     0.448     0.523       154\n",
            "  I-location      0.620     0.383     0.473        81\n",
            "     B-other      0.489     0.174     0.257       132\n",
            "     I-other      0.173     0.237     0.200        97\n",
            "    B-person      0.619     0.532     0.572       171\n",
            "    I-person      0.587     0.642     0.613        95\n",
            "   B-product      1.000     0.027     0.053        37\n",
            "   I-product      1.000     0.017     0.033       121\n",
            "     B-title      0.000     0.000     0.000        17\n",
            "     I-title      0.000     0.000     0.000        15\n",
            "\n",
            "   micro avg      0.497     0.276     0.355      1128\n",
            "   macro avg      0.480     0.190     0.219      1128\n",
            "weighted avg      0.582     0.276     0.312      1128\n",
            "\n",
            "Accuracy: 0.9412090277350716\n",
            "Precision : 0.5818869481155792\n",
            "Recall : 0.27570921985815605\n",
            "F1 weighted avg: 0.3116337377240361\n"
          ],
          "name": "stdout"
        }
      ]
    },
    {
      "cell_type": "markdown",
      "metadata": {
        "id": "ncsWQQu1xMJu",
        "colab_type": "text"
      },
      "source": [
        "# Hyper Parameter Optimization"
      ]
    },
    {
      "cell_type": "code",
      "metadata": {
        "id": "N4_KUUszxQie",
        "colab_type": "code",
        "outputId": "7ab3b8c8-17e7-4e36-862e-18f0bffce41e",
        "colab": {
          "base_uri": "https://localhost:8080/",
          "height": 395
        }
      },
      "source": [
        "Model_X = CRF(\n",
        "    algorithm='lbfgs',\n",
        "    max_iterations=100,\n",
        "    all_possible_transitions=True\n",
        ")\n",
        "params_space = {\n",
        "    'c1': scipy.stats.expon(scale=0.5),\n",
        "    'c2': scipy.stats.expon(scale=0.05),\n",
        "}\n",
        "\n",
        "# use the same metric for evaluation\n",
        "f1_scorer = make_scorer(metrics.flat_f1_score,\n",
        "                        average='weighted', labels=labels)\n",
        "\n",
        "# search\n",
        "rs = RandomizedSearchCV(crf, params_space,\n",
        "                        cv=3,\n",
        "                        verbose=1,\n",
        "                        n_jobs=-1,\n",
        "                        n_iter=50,\n",
        "                        scoring=f1_scorer)\n",
        "rs.fit(X_train, y_train)"
      ],
      "execution_count": 65,
      "outputs": [
        {
          "output_type": "stream",
          "text": [
            "Fitting 3 folds for each of 50 candidates, totalling 150 fits\n"
          ],
          "name": "stdout"
        },
        {
          "output_type": "stream",
          "text": [
            "/usr/local/lib/python3.6/dist-packages/sklearn/base.py:197: FutureWarning: From version 0.24, get_params will raise an AttributeError if a parameter cannot be retrieved as an instance attribute. Previously it would return None.\n",
            "  FutureWarning)\n",
            "[Parallel(n_jobs=-1)]: Using backend LokyBackend with 2 concurrent workers.\n",
            "[Parallel(n_jobs=-1)]: Done  46 tasks      | elapsed:  8.7min\n",
            "[Parallel(n_jobs=-1)]: Done 150 out of 150 | elapsed: 27.9min finished\n"
          ],
          "name": "stderr"
        },
        {
          "output_type": "execute_result",
          "data": {
            "text/plain": [
              "RandomizedSearchCV(cv=3, error_score=nan,\n",
              "                   estimator=CRF(algorithm='lbfgs', all_possible_states=None,\n",
              "                                 all_possible_transitions=False, averaging=None,\n",
              "                                 c=None, c1=0.1, c2=0.1,\n",
              "                                 calibration_candidates=None,\n",
              "                                 calibration_eta=None,\n",
              "                                 calibration_max_trials=None,\n",
              "                                 calibration_rate=None,\n",
              "                                 calibration_samples=None, delta=None,\n",
              "                                 epsilon=None, error_sensitive=None, gamma=None,\n",
              "                                 keep_t...\n",
              "                                        'c2': <scipy.stats._distn_infrastructure.rv_frozen object at 0x7eff3af09f28>},\n",
              "                   pre_dispatch='2*n_jobs', random_state=None, refit=True,\n",
              "                   return_train_score=False,\n",
              "                   scoring=make_scorer(flat_f1_score, average=weighted, labels=['B-location', 'I-location', 'B-title', 'I-title', 'B-company', 'B-product', 'B-person', 'B-other', 'I-other', 'B-group', 'I-group', 'I-product', 'I-company', 'I-person']),\n",
              "                   verbose=1)"
            ]
          },
          "metadata": {
            "tags": []
          },
          "execution_count": 65
        }
      ]
    },
    {
      "cell_type": "markdown",
      "metadata": {
        "id": "en-V95Voyknk",
        "colab_type": "text"
      },
      "source": [
        "# Best Parameters"
      ]
    },
    {
      "cell_type": "code",
      "metadata": {
        "id": "mNKWqjduynlm",
        "colab_type": "code",
        "outputId": "f6694b1f-6ed4-42d2-883f-3bf0e42c4bab",
        "colab": {
          "base_uri": "https://localhost:8080/",
          "height": 66
        }
      },
      "source": [
        "print('best params:', rs.best_params_)\n",
        "print('best CV score:', rs.best_score_)\n",
        "print('model size: {:0.2f}M'.format(rs.best_estimator_.size_ / 1000000))"
      ],
      "execution_count": 66,
      "outputs": [
        {
          "output_type": "stream",
          "text": [
            "best params: {'c1': 0.0039331454915196495, 'c2': 0.005457920820290508}\n",
            "best CV score: 0.4697630895123395\n",
            "model size: 1.30M\n"
          ],
          "name": "stdout"
        }
      ]
    },
    {
      "cell_type": "code",
      "metadata": {
        "id": "yx3EuRlo5kvv",
        "colab_type": "code",
        "outputId": "7c57f0f7-33ec-4864-f857-79df1da51306",
        "colab": {
          "base_uri": "https://localhost:8080/",
          "height": 423
        }
      },
      "source": [
        "crf = rs.best_estimator_\n",
        "y_pred = crf.predict(X_dev)\n",
        "print(metrics.flat_classification_report(\n",
        "    y_dev, y_pred, labels=sorted_labels, digits=3\n",
        "))\n",
        "\n",
        "accuracy = metrics.flat_accuracy_score(y_dev, y_pred)\n",
        "print(\"accuracy :\" + str(accuracy))\n",
        "precision = metrics.flat_precision_score(y_dev, y_pred, average='weighted', labels=labels)\n",
        "print(\"Precision : \"  + str(precision))\n",
        "recall = metrics.flat_recall_score(y_dev, y_pred, average='weighted', labels=labels)\n",
        "print(\"Recall : \" + str(recall))\n",
        "f1 = metrics.flat_f1_score(y_dev, y_pred, average='weighted', labels=labels)\n",
        "print(\"F1 weighted avg: \" + str(f1))"
      ],
      "execution_count": 67,
      "outputs": [
        {
          "output_type": "stream",
          "text": [
            "              precision    recall  f1-score   support\n",
            "\n",
            "   B-company      0.636     0.179     0.280        39\n",
            "   I-company      0.000     0.000     0.000        10\n",
            "     B-group      0.625     0.045     0.084       111\n",
            "     I-group      0.250     0.021     0.038        48\n",
            "  B-location      0.660     0.442     0.529       154\n",
            "  I-location      0.667     0.395     0.496        81\n",
            "     B-other      0.533     0.182     0.271       132\n",
            "     I-other      0.209     0.237     0.222        97\n",
            "    B-person      0.631     0.520     0.571       171\n",
            "    I-person      0.589     0.589     0.589        95\n",
            "   B-product      0.571     0.108     0.182        37\n",
            "   I-product      0.333     0.017     0.031       121\n",
            "     B-title      0.000     0.000     0.000        17\n",
            "     I-title      0.000     0.000     0.000        15\n",
            "\n",
            "   micro avg      0.519     0.276     0.360      1128\n",
            "   macro avg      0.408     0.195     0.235      1128\n",
            "weighted avg      0.512     0.276     0.324      1128\n",
            "\n",
            "accuracy :0.9417010023983765\n",
            "Precision : 0.5123734606396966\n",
            "Recall : 0.27570921985815605\n",
            "F1 weighted avg: 0.32377858976631435\n"
          ],
          "name": "stdout"
        }
      ]
    },
    {
      "cell_type": "code",
      "metadata": {
        "id": "tVLpN_ce61Ze",
        "colab_type": "code",
        "outputId": "d35d8911-b28f-4fc4-f392-24cd571b0b13",
        "colab": {
          "base_uri": "https://localhost:8080/",
          "height": 716
        }
      },
      "source": [
        "from collections import Counter\n",
        "\n",
        "def print_transitions(trans_features):\n",
        "    for (label_from, label_to), weight in trans_features:\n",
        "        print(\"%-6s -> %-7s %0.6f\" % (label_from, label_to, weight))\n",
        "\n",
        "print(\"Top likely transitions:\")\n",
        "print_transitions(Counter(crf.transition_features_).most_common(20))\n",
        "\n",
        "print(\"\\nTop unlikely transitions:\")\n",
        "print_transitions(Counter(crf.transition_features_).most_common()[-20:])"
      ],
      "execution_count": 68,
      "outputs": [
        {
          "output_type": "stream",
          "text": [
            "Top likely transitions:\n",
            "B-person -> I-person 8.700147\n",
            "B-title -> I-title 8.582140\n",
            "B-other -> I-other 8.307213\n",
            "B-location -> I-location 8.169060\n",
            "I-title -> I-title 8.119032\n",
            "B-product -> I-product 8.102421\n",
            "B-group -> I-group 8.098150\n",
            "I-group -> I-group 7.616215\n",
            "I-product -> I-product 6.738798\n",
            "I-other -> I-other 6.566214\n",
            "B-company -> I-company 5.788404\n",
            "I-location -> I-location 5.651181\n",
            "I-person -> I-person 5.315123\n",
            "I-company -> I-company 4.851213\n",
            "O      -> O       4.228243\n",
            "O      -> B-person 2.265310\n",
            "O      -> B-title 2.046003\n",
            "O      -> B-group 1.883943\n",
            "O      -> B-product 1.605143\n",
            "O      -> B-location 1.585559\n",
            "\n",
            "Top unlikely transitions:\n",
            "I-person -> O       -0.029275\n",
            "B-location -> B-location -0.035175\n",
            "I-title -> O       -0.056044\n",
            "B-company -> O       -0.108513\n",
            "B-other -> O       -0.132205\n",
            "B-other -> B-person -0.135444\n",
            "I-product -> B-product -0.288476\n",
            "I-product -> O       -0.303473\n",
            "B-product -> O       -0.330795\n",
            "I-location -> B-person -0.367226\n",
            "B-location -> O       -0.383697\n",
            "I-company -> O       -0.413471\n",
            "B-group -> O       -0.614452\n",
            "I-group -> O       -0.646745\n",
            "I-location -> O       -0.706106\n",
            "I-location -> B-location -1.007424\n",
            "I-other -> O       -1.101037\n",
            "B-title -> O       -1.400707\n",
            "I-other -> B-person -1.450738\n",
            "I-other -> B-other -1.753078\n"
          ],
          "name": "stdout"
        }
      ]
    },
    {
      "cell_type": "code",
      "metadata": {
        "id": "xh3d0PMU7HpF",
        "colab_type": "code",
        "outputId": "5c595601-353b-45f9-cc53-e83a74e43e26",
        "colab": {
          "base_uri": "https://localhost:8080/",
          "height": 1000
        }
      },
      "source": [
        "def print_state_features(state_features):\n",
        "    for (attr, label), weight in state_features:\n",
        "        print(\"%0.6f %-8s %s\" % (weight, label, attr))\n",
        "\n",
        "print(\"Top positive:\")\n",
        "print_state_features(Counter(crf.state_features_).most_common(30))\n",
        "\n",
        "print(\"\\nTop negative:\")\n",
        "print_state_features(Counter(crf.state_features_).most_common()[-30:])"
      ],
      "execution_count": 69,
      "outputs": [
        {
          "output_type": "stream",
          "text": [
            "Top positive:\n",
            "8.601599 B-company word.lower():twitter\n",
            "5.716916 O        +1:stem:bless\n",
            "5.517394 O        EOS\n",
            "5.241207 B-location inLocations\n",
            "5.241058 B-company word.lower():facebook\n",
            "4.976367 O        bias\n",
            "4.835718 B-person word.lower():pope\n",
            "4.570714 B-product word.lower():ipod\n",
            "4.349481 O        +1:stem:thi\n",
            "4.197624 B-product +1:stem:devic\n",
            "4.112117 B-location -1:lemma:at\n",
            "4.109225 I-location -1:lemma:JANNUS\n",
            "4.043498 I-other  -1:lemma:Guestmix\n",
            "4.010778 B-person lemma:pope\n",
            "4.010778 B-person +1:lemma:pope\n",
            "3.995074 B-person word.lower():4dbling\n",
            "3.995074 B-person lemma:4Dbling\n",
            "3.995074 B-person +1:lemma:4Dbling\n",
            "3.992067 B-company +1:stem:instant\n",
            "3.968019 B-location +1:stem:wind\n",
            "3.902225 B-company -1:lemma:@mckenziecomer\n",
            "3.902225 B-company +1:stem:tube\n",
            "3.866102 O        BOS\n",
            "3.847311 B-group  +1:stem:gear\n",
            "3.843243 B-person word.lower():billy\n",
            "3.843243 B-person lemma:billy\n",
            "3.843243 B-person -1:lemma:Silly\n",
            "3.803043 B-person inNames\n",
            "3.776927 I-other  -1:lemma:Bowl\n",
            "3.736232 B-group  -1:lemma:Go\n",
            "\n",
            "Top negative:\n",
            "-2.244411 O        word[-3:]:ggy\n",
            "-2.292924 O        word[-2:]:ka\n",
            "-2.339553 O        +1:stem:sign\n",
            "-2.365026 O        -1:lemma:DAY\n",
            "-2.378874 O        +1:stem:song\n",
            "-2.381432 O        word[-3:]:ERS\n",
            "-2.407307 O        +1:stem:footbal\n",
            "-2.429897 B-person -1:lemma:the\n",
            "-2.436967 O        +1:stem:fan\n",
            "-2.467933 O        +1:stem:state\n",
            "-2.477241 O        word[-2:]:LE\n",
            "-2.564576 O        -1:lemma:beat\n",
            "-2.728479 O        +1:stem:park\n",
            "-2.747963 O        word[-2:]:za\n",
            "-2.789130 O        hasCapitalLetter\n",
            "-2.814483 O        -1:lemma:FUCKING\n",
            "-2.823070 O        -1:lemma:YEAH\n",
            "-2.842851 O        -1:lemma:--\n",
            "-2.986907 O        -1:lemma:green\n",
            "-2.994274 O        word[-2:]:mi\n",
            "-3.032521 O        +1:stem:lion\n",
            "-3.033277 O        -1:lemma:then\n",
            "-3.193269 O        word[-3:]:ube\n",
            "-3.208162 O        -1:lemma:hate\n",
            "-3.248908 O        word[-3:]:Pad\n",
            "-3.307550 O        word[-3:]:lds\n",
            "-3.368260 O        -1:lemma:manage\n",
            "-3.412113 I-location -1:inLocations\n",
            "-3.524921 O        -1:lemma:B\n",
            "-3.790689 O        word[-2:]:GP\n"
          ],
          "name": "stdout"
        }
      ]
    },
    {
      "cell_type": "code",
      "metadata": {
        "id": "f8OxPL0ZNKgz",
        "colab_type": "code",
        "outputId": "6c7c3ca7-b94c-459d-92b2-ab0af194a520",
        "colab": {
          "base_uri": "https://localhost:8080/",
          "height": 33
        }
      },
      "source": [
        "crf = rs.best_estimator_\n",
        "y_pred = crf.predict(X_test)\n",
        "print(y_pred[0][0])"
      ],
      "execution_count": 70,
      "outputs": [
        {
          "output_type": "stream",
          "text": [
            "O\n"
          ],
          "name": "stdout"
        }
      ]
    },
    {
      "cell_type": "code",
      "metadata": {
        "id": "kNi_HAyDT8lb",
        "colab_type": "code",
        "colab": {}
      },
      "source": [
        "outR = open(\"test_no_tag.txt\", \"r\")\n",
        "outF = open(\"result.txt\", \"w\")\n",
        "lines = outR.readlines()\n",
        "pred_line = 0\n",
        "pred_word = 0\n",
        "for line in lines:\n",
        "  if(len(line)>1):\n",
        "    outF.write(line.replace('\\n','')+\"\\t\\t\"+y_pred[pred_line][pred_word]+\"\\n\")\n",
        "    pred_word = pred_word + 1\n",
        "  else:\n",
        "    outF.write(\"\\n\")\n",
        "    pred_word = 0\n",
        "    pred_line = pred_line + 1\n",
        "\n",
        "\n",
        "outR.close()\n",
        "outF.close()"
      ],
      "execution_count": 0,
      "outputs": []
    }
  ]
}