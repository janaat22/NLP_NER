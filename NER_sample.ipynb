{
  "nbformat": 4,
  "nbformat_minor": 0,
  "metadata": {
    "colab": {
      "name": "NER_sample.ipynb",
      "provenance": [],
      "toc_visible": true,
      "authorship_tag": "ABX9TyME4OxHA+M7wJPi8NzYsbMc",
      "include_colab_link": true
    },
    "kernelspec": {
      "name": "python3",
      "display_name": "Python 3"
    }
  },
  "cells": [
    {
      "cell_type": "markdown",
      "metadata": {
        "id": "view-in-github",
        "colab_type": "text"
      },
      "source": [
        "<a href=\"https://colab.research.google.com/github/janaat22/NLP_NER/blob/master/NER_sample.ipynb\" target=\"_parent\"><img src=\"https://colab.research.google.com/assets/colab-badge.svg\" alt=\"Open In Colab\"/></a>"
      ]
    },
    {
      "cell_type": "code",
      "metadata": {
        "id": "PrGaB4fxws8Z",
        "colab_type": "code",
        "colab": {}
      },
      "source": [
        "%matplotlib inline\n",
        "import matplotlib.pyplot as plt\n",
        "plt.style.use('ggplot')\n"
      ],
      "execution_count": 0,
      "outputs": []
    },
    {
      "cell_type": "code",
      "metadata": {
        "id": "e6ka8aPGPTba",
        "colab_type": "code",
        "colab": {}
      },
      "source": [
        "pip install sklearn-crfsuite"
      ],
      "execution_count": 0,
      "outputs": []
    },
    {
      "cell_type": "code",
      "metadata": {
        "id": "mTWW3NnewSjd",
        "colab_type": "code",
        "colab": {}
      },
      "source": [
        "from itertools import chain\n",
        "\n",
        "import nltk\n",
        "import sklearn\n",
        "import scipy.stats\n",
        "#Modeling\n",
        "from sklearn.model_selection import cross_val_predict, cross_val_score\n",
        "from sklearn.model_selection import train_test_split\n",
        "from sklearn.model_selection import learning_curve, GridSearchCV\n",
        "from sklearn.model_selection import RandomizedSearchCV\n",
        "#from sklearn_crfsuite import CRF, scorers, metrics\n",
        "import sklearn_crfsuite\n",
        "from sklearn_crfsuite import CRF\n",
        "from sklearn_crfsuite import scorers\n",
        "from sklearn_crfsuite import metrics\n",
        "from sklearn_crfsuite.metrics import flat_classification_report\n",
        "from sklearn.metrics import classification_report, make_scorer"
      ],
      "execution_count": 0,
      "outputs": []
    },
    {
      "cell_type": "code",
      "metadata": {
        "id": "FRc0x0xJQmI_",
        "colab_type": "code",
        "colab": {}
      },
      "source": [
        "import pandas as pd\n",
        "import numpy as np\n",
        "import nltk\n",
        "nltk.download('punkt')\n",
        "nltk.download('averaged_perceptron_tagger')"
      ],
      "execution_count": 0,
      "outputs": []
    },
    {
      "cell_type": "code",
      "metadata": {
        "id": "Hrv4xwf5Q3s4",
        "colab_type": "code",
        "colab": {}
      },
      "source": [
        "\n",
        "\n",
        "def file_to_list(file_name):  \n",
        "  training_key_value = []\n",
        "  word_dict = {}  \n",
        "  word_list = []\n",
        "  file1 = open(file_name, 'r')\n",
        "  Lines = file1.readlines() \n",
        "  \n",
        "  sentence = 1\n",
        "  for line in Lines:    \n",
        "    training_key_value = line.split()\n",
        "    if(len(training_key_value) == 2):\n",
        "      word = training_key_value[0]\n",
        "      tag = training_key_value[1]\n",
        "      word_dict[word] = tag\n",
        "      tokenized = nltk.word_tokenize(word)\n",
        "      tagged = nltk.pos_tag(tokenized)\n",
        "      word_list.append(((sentence, word, tagged[0][1], tag))) \n",
        "      tags.update(tagged)\n",
        "    else:\n",
        "      sentence = sentence + 1\n",
        "  return word_dict,word_list\n",
        "\n",
        " \n",
        "#Train data\n",
        "word_dict_train, word_list_train = file_to_list('train.txt')\n",
        "array_of_words_train = np.array(list(word_dict_train.keys()))\n",
        "array_of_values_train = np.array(list(word_dict_train.values()))\n",
        "X_Y_train = np.column_stack((array_of_words_train, array_of_values_train))\n",
        "\n",
        "#Test data\n",
        "word_dict_dev,word_list_dev = file_to_list('dev.txt')\n",
        "array_of_words_dev = np.array(list(word_dict_dev.keys()))\n",
        "array_of_values_dev = np.array(list(word_dict_dev.values()))\n",
        "X_Y_dev = np.column_stack((array_of_words_dev, array_of_values_dev))\n"
      ],
      "execution_count": 0,
      "outputs": []
    },
    {
      "cell_type": "code",
      "metadata": {
        "id": "u0rkLgvaS1U8",
        "colab_type": "code",
        "colab": {
          "base_uri": "https://localhost:8080/",
          "height": 180
        },
        "outputId": "788d4a06-1049-4329-983d-2f88525cc69e"
      },
      "source": [
        "train_data = pd.DataFrame(word_list_train)\n",
        "print(train_data.head(n = 4))\n",
        "\n",
        "dev_data = pd.DataFrame(word_list_dev)\n",
        "print(dev_data.head(n = 4))"
      ],
      "execution_count": 44,
      "outputs": [
        {
          "output_type": "stream",
          "text": [
            "   0                1    2  3\n",
            "0  1  @SammieLynnsMom   NN  O\n",
            "1  1         @tg10781   NN  O\n",
            "2  1             they  PRP  O\n",
            "3  1             will   MD  O\n",
            "   0       1   2  3\n",
            "0  1    STOP  NN  O\n",
            "1  1    WHAT  WP  O\n",
            "2  1  YOU'RE  NN  O\n",
            "3  1   DOING  NN  O\n"
          ],
          "name": "stdout"
        }
      ]
    },
    {
      "cell_type": "code",
      "metadata": {
        "id": "6ji8x2h_UjQ0",
        "colab_type": "code",
        "colab": {
          "base_uri": "https://localhost:8080/",
          "height": 191
        },
        "outputId": "313e2f7d-71c6-46ce-e3ed-cd4256f1590a"
      },
      "source": [
        "train_data.columns = data.iloc[0]\n",
        "train_data = train_data[1:]\n",
        "train_data.columns = ['Sentence','Word','POS','Tag']\n",
        "train_data = train_data.reset_index(drop=True)\n",
        "#train_data.head(n=5)\n",
        "\n",
        "dev_data.columns = data.iloc[0]\n",
        "dev_data = dev_data[1:]\n",
        "dev_data.columns = ['Sentence','Word','POS','Tag']\n",
        "dev_data = dev_data.reset_index(drop=True)\n",
        "#dev_data.head(n=5)"
      ],
      "execution_count": 61,
      "outputs": [
        {
          "output_type": "execute_result",
          "data": {
            "text/html": [
              "<div>\n",
              "<style scoped>\n",
              "    .dataframe tbody tr th:only-of-type {\n",
              "        vertical-align: middle;\n",
              "    }\n",
              "\n",
              "    .dataframe tbody tr th {\n",
              "        vertical-align: top;\n",
              "    }\n",
              "\n",
              "    .dataframe thead th {\n",
              "        text-align: right;\n",
              "    }\n",
              "</style>\n",
              "<table border=\"1\" class=\"dataframe\">\n",
              "  <thead>\n",
              "    <tr style=\"text-align: right;\">\n",
              "      <th></th>\n",
              "      <th>Sentence</th>\n",
              "      <th>Word</th>\n",
              "      <th>POS</th>\n",
              "      <th>Tag</th>\n",
              "    </tr>\n",
              "  </thead>\n",
              "  <tbody>\n",
              "    <tr>\n",
              "      <th>0</th>\n",
              "      <td>1</td>\n",
              "      <td>WHAT</td>\n",
              "      <td>WP</td>\n",
              "      <td>O</td>\n",
              "    </tr>\n",
              "    <tr>\n",
              "      <th>1</th>\n",
              "      <td>1</td>\n",
              "      <td>YOU'RE</td>\n",
              "      <td>NN</td>\n",
              "      <td>O</td>\n",
              "    </tr>\n",
              "    <tr>\n",
              "      <th>2</th>\n",
              "      <td>1</td>\n",
              "      <td>DOING</td>\n",
              "      <td>NN</td>\n",
              "      <td>O</td>\n",
              "    </tr>\n",
              "    <tr>\n",
              "      <th>3</th>\n",
              "      <td>1</td>\n",
              "      <td>AND</td>\n",
              "      <td>CC</td>\n",
              "      <td>O</td>\n",
              "    </tr>\n",
              "    <tr>\n",
              "      <th>4</th>\n",
              "      <td>1</td>\n",
              "      <td>GO</td>\n",
              "      <td>VB</td>\n",
              "      <td>O</td>\n",
              "    </tr>\n",
              "  </tbody>\n",
              "</table>\n",
              "</div>"
            ],
            "text/plain": [
              "   Sentence    Word POS Tag\n",
              "0         1    WHAT  WP   O\n",
              "1         1  YOU'RE  NN   O\n",
              "2         1   DOING  NN   O\n",
              "3         1     AND  CC   O\n",
              "4         1      GO  VB   O"
            ]
          },
          "metadata": {
            "tags": []
          },
          "execution_count": 61
        }
      ]
    },
    {
      "cell_type": "code",
      "metadata": {
        "id": "9_9RMWAP1JO5",
        "colab_type": "code",
        "colab": {
          "base_uri": "https://localhost:8080/",
          "height": 33
        },
        "outputId": "634540c5-3ee3-4839-f88a-c832882f5ab6"
      },
      "source": [
        "train_data.shape"
      ],
      "execution_count": 62,
      "outputs": [
        {
          "output_type": "execute_result",
          "data": {
            "text/plain": [
              "(46467, 4)"
            ]
          },
          "metadata": {
            "tags": []
          },
          "execution_count": 62
        }
      ]
    },
    {
      "cell_type": "code",
      "metadata": {
        "id": "QkRTyTd9Uo9h",
        "colab_type": "code",
        "colab": {}
      },
      "source": [
        "# A class to retrieve the sentences from the dataset\n",
        "class getsentence(object):\n",
        "    \n",
        "    def __init__(self, data):\n",
        "        self.n_sent = 1.0\n",
        "        self.data = data\n",
        "        self.empty = False\n",
        "        agg_func = lambda s: [(w, p, t) for w, p, t in zip(s[\"Word\"].values.tolist(),\n",
        "                                                           s[\"POS\"].values.tolist(),\n",
        "                                                           s[\"Tag\"].values.tolist())]\n",
        "        self.grouped = self.data.groupby(\"Sentence\").apply(agg_func)\n",
        "        self.sentences = [s for s in self.grouped]"
      ],
      "execution_count": 0,
      "outputs": []
    },
    {
      "cell_type": "code",
      "metadata": {
        "id": "c7FvegeoWp-5",
        "colab_type": "code",
        "colab": {
          "base_uri": "https://localhost:8080/",
          "height": 53
        },
        "outputId": "5ae98bb7-d638-47bc-ed0b-1d9973a195ce"
      },
      "source": [
        "train_getter = getsentence(train_data)\n",
        "train_sentences = getter.sentences\n",
        "\n",
        "dev_getter = getsentence(dev_data)\n",
        "dev_sentences = getter.sentences\n",
        "\n",
        "#This is how a sentence will look like. \n",
        "print(train_sentences[0])"
      ],
      "execution_count": 64,
      "outputs": [
        {
          "output_type": "stream",
          "text": [
            "[('@tg10781', 'NN', 'O'), ('they', 'PRP', 'O'), ('will', 'MD', 'O'), ('be', 'VB', 'O'), ('all', 'DT', 'O'), ('done', 'VBN', 'O'), ('by', 'IN', 'O'), ('Sunday', 'NNP', 'O'), ('trust', 'NN', 'O'), ('me', 'PRP', 'O'), ('*wink*', 'NN', 'O')]\n"
          ],
          "name": "stdout"
        }
      ]
    },
    {
      "cell_type": "code",
      "metadata": {
        "id": "4bZI96NRXMJZ",
        "colab_type": "code",
        "colab": {}
      },
      "source": [
        "# Feature set\n",
        "def word2features(sent, i):\n",
        "    word = sent[i][0]\n",
        "    postag = sent[i][1]\n",
        "\n",
        "    features = {\n",
        "        'bias': 1.0,\n",
        "        'word.lower()': word.lower(),\n",
        "        'word[-3:]': word[-3:],\n",
        "        'word[-2:]': word[-2:],\n",
        "        'word.isupper()': word.isupper(),\n",
        "        'word.istitle()': word.istitle(),\n",
        "        'word.isdigit()': word.isdigit(),\n",
        "        'postag': postag,\n",
        "        'postag[:2]': postag[:2],\n",
        "    }\n",
        "    if i > 0:\n",
        "        word1 = sent[i-1][0]\n",
        "        postag1 = sent[i-1][1]\n",
        "        features.update({\n",
        "            '-1:word.lower()': word1.lower(),\n",
        "            '-1:word.istitle()': word1.istitle(),\n",
        "            '-1:word.isupper()': word1.isupper(),\n",
        "            '-1:postag': postag1,\n",
        "            '-1:postag[:2]': postag1[:2],\n",
        "        })\n",
        "    else:\n",
        "        features['BOS'] = True\n",
        "\n",
        "    if i < len(sent)-1:\n",
        "        word1 = sent[i+1][0]\n",
        "        postag1 = sent[i+1][1]\n",
        "        features.update({\n",
        "            '+1:word.lower()': word1.lower(),\n",
        "            '+1:word.istitle()': word1.istitle(),\n",
        "            '+1:word.isupper()': word1.isupper(),\n",
        "            '+1:postag': postag1,\n",
        "            '+1:postag[:2]': postag1[:2],\n",
        "        })\n",
        "    else:\n",
        "        features['EOS'] = True\n",
        "\n",
        "    return features\n",
        "\n",
        "\n",
        "def sent2features(sent):\n",
        "    return [word2features(sent, i) for i in range(len(sent))]\n",
        "\n",
        "def sent2labels(sent):\n",
        "    return [label for token, postag, label in sent]\n",
        "\n",
        "def sent2tokens(sent):\n",
        "    return [token for token, postag, label in sent]"
      ],
      "execution_count": 0,
      "outputs": []
    },
    {
      "cell_type": "code",
      "metadata": {
        "id": "bDRJbpFeqDxp",
        "colab_type": "code",
        "colab": {
          "base_uri": "https://localhost:8080/",
          "height": 261
        },
        "outputId": "ae6f0fbd-8547-4a7b-bc27-14176cf2d14f"
      },
      "source": [
        "sent2features(train_sentences[3])[0]"
      ],
      "execution_count": 76,
      "outputs": [
        {
          "output_type": "execute_result",
          "data": {
            "text/plain": [
              "{'+1:postag': 'RB',\n",
              " '+1:postag[:2]': 'RB',\n",
              " '+1:word.istitle()': False,\n",
              " '+1:word.isupper()': False,\n",
              " '+1:word.lower()': 'perhaps',\n",
              " 'BOS': True,\n",
              " 'bias': 1.0,\n",
              " 'postag': 'NN',\n",
              " 'postag[:2]': 'NN',\n",
              " 'word.isdigit()': False,\n",
              " 'word.istitle()': False,\n",
              " 'word.isupper()': False,\n",
              " 'word.lower()': '@ls_n',\n",
              " 'word[-2:]': '_n',\n",
              " 'word[-3:]': 's_n'}"
            ]
          },
          "metadata": {
            "tags": []
          },
          "execution_count": 76
        }
      ]
    },
    {
      "cell_type": "code",
      "metadata": {
        "id": "QBmR_UsEW5YZ",
        "colab_type": "code",
        "colab": {}
      },
      "source": [
        "#Creating the train and test set\n",
        "\n",
        "X_train = [sent2features(s) for s in train_sentences]\n",
        "y_train = [sent2labels(s) for s in train_sentences]\n",
        "\n",
        "X_dev = [sent2features(s) for s in dev_sentences]\n",
        "y_dev = [sent2labels(s) for s in dev_sentences]"
      ],
      "execution_count": 0,
      "outputs": []
    },
    {
      "cell_type": "code",
      "metadata": {
        "id": "UleMIHP0X6Q2",
        "colab_type": "code",
        "colab": {}
      },
      "source": [
        "#Creating the CRF model\n",
        "crf = CRF(algorithm='lbfgs',\n",
        "          c1=0.1,\n",
        "          c2=0.1,\n",
        "          max_iterations=100,\n",
        "          all_possible_transitions=False)"
      ],
      "execution_count": 0,
      "outputs": []
    },
    {
      "cell_type": "code",
      "metadata": {
        "id": "w5xOekAmX9V8",
        "colab_type": "code",
        "colab": {}
      },
      "source": [
        "Model_Roadster = crf.fit(X_train,y_train)"
      ],
      "execution_count": 0,
      "outputs": []
    },
    {
      "cell_type": "code",
      "metadata": {
        "id": "POk26KMItTJs",
        "colab_type": "code",
        "colab": {
          "base_uri": "https://localhost:8080/",
          "height": 245
        },
        "outputId": "415a8164-a4ca-49c2-bba5-96d0b9c75066"
      },
      "source": [
        "labels = list(crf.classes_)\n",
        "labels.remove('O')\n",
        "labels\n"
      ],
      "execution_count": 73,
      "outputs": [
        {
          "output_type": "execute_result",
          "data": {
            "text/plain": [
              "['B-location',\n",
              " 'I-location',\n",
              " 'B-title',\n",
              " 'I-title',\n",
              " 'B-company',\n",
              " 'B-product',\n",
              " 'B-person',\n",
              " 'B-other',\n",
              " 'I-other',\n",
              " 'B-group',\n",
              " 'I-group',\n",
              " 'I-product',\n",
              " 'I-company',\n",
              " 'I-person']"
            ]
          },
          "metadata": {
            "tags": []
          },
          "execution_count": 73
        }
      ]
    },
    {
      "cell_type": "code",
      "metadata": {
        "id": "1bQ09BiitZR4",
        "colab_type": "code",
        "colab": {
          "base_uri": "https://localhost:8080/",
          "height": 33
        },
        "outputId": "b54e3910-f906-4100-9497-c9af4dcf1a02"
      },
      "source": [
        "y_pred = crf.predict(X_dev)\n",
        "metrics.flat_f1_score(y_dev, y_pred,\n",
        "                      average='weighted', labels=labels)"
      ],
      "execution_count": 74,
      "outputs": [
        {
          "output_type": "execute_result",
          "data": {
            "text/plain": [
              "0.9842624520657051"
            ]
          },
          "metadata": {
            "tags": []
          },
          "execution_count": 74
        }
      ]
    },
    {
      "cell_type": "code",
      "metadata": {
        "id": "k6QeV_Ottu5O",
        "colab_type": "code",
        "colab": {
          "base_uri": "https://localhost:8080/",
          "height": 358
        },
        "outputId": "cb93524f-ca56-4b75-f8c1-f41fb7e8ddf0"
      },
      "source": [
        "# group B and I results\n",
        "sorted_labels = sorted(\n",
        "    labels,\n",
        "    key=lambda name: (name[1:], name[0])\n",
        ")\n",
        "print(metrics.flat_classification_report(\n",
        "    y_dev, y_pred, labels=sorted_labels, digits=3\n",
        "))"
      ],
      "execution_count": 75,
      "outputs": [
        {
          "output_type": "stream",
          "text": [
            "              precision    recall  f1-score   support\n",
            "\n",
            "   B-company      1.000     0.959     0.979       171\n",
            "   I-company      1.000     0.944     0.971        36\n",
            "     B-group      1.000     0.953     0.976       106\n",
            "     I-group      1.000     0.988     0.994        84\n",
            "  B-location      0.995     0.979     0.987       380\n",
            "  I-location      0.994     0.994     0.994       154\n",
            "     B-other      0.991     0.929     0.959       225\n",
            "     I-other      1.000     0.969     0.984       320\n",
            "    B-person      1.000     0.976     0.988       449\n",
            "    I-person      1.000     0.995     0.998       215\n",
            "   B-product      1.000     0.948     0.974        97\n",
            "   I-product      1.000     1.000     1.000        80\n",
            "     B-title      1.000     0.956     0.977        68\n",
            "     I-title      1.000     0.987     0.993        77\n",
            "\n",
            "   micro avg      0.998     0.971     0.984      2462\n",
            "   macro avg      0.998     0.970     0.984      2462\n",
            "weighted avg      0.998     0.971     0.984      2462\n",
            "\n"
          ],
          "name": "stdout"
        }
      ]
    },
    {
      "cell_type": "markdown",
      "metadata": {
        "id": "ncsWQQu1xMJu",
        "colab_type": "text"
      },
      "source": [
        "# Hyper Parameter Optimization"
      ]
    },
    {
      "cell_type": "code",
      "metadata": {
        "id": "N4_KUUszxQie",
        "colab_type": "code",
        "colab": {
          "base_uri": "https://localhost:8080/",
          "height": 378
        },
        "outputId": "bad0ba2c-852c-45a0-fdd8-e74edc6d8e63"
      },
      "source": [
        "crf = CRF(\n",
        "    algorithm='lbfgs',\n",
        "    max_iterations=10,\n",
        "    all_possible_transitions=True\n",
        ")\n",
        "params_space = {\n",
        "    'c1': scipy.stats.expon(scale=0.5),\n",
        "    'c2': scipy.stats.expon(scale=0.05),\n",
        "}\n",
        "\n",
        "# use the same metric for evaluation\n",
        "f1_scorer = make_scorer(metrics.flat_f1_score,\n",
        "                        average='weighted', labels=labels)\n",
        "\n",
        "# search\n",
        "rs = RandomizedSearchCV(crf, params_space,\n",
        "                        cv=3,\n",
        "                        verbose=1,\n",
        "                        n_jobs=-1,\n",
        "                        n_iter=10,\n",
        "                        scoring=f1_scorer)\n",
        "rs.fit(X_train, y_train)"
      ],
      "execution_count": 88,
      "outputs": [
        {
          "output_type": "stream",
          "text": [
            "Fitting 3 folds for each of 10 candidates, totalling 30 fits\n"
          ],
          "name": "stdout"
        },
        {
          "output_type": "stream",
          "text": [
            "/usr/local/lib/python3.6/dist-packages/sklearn/base.py:197: FutureWarning: From version 0.24, get_params will raise an AttributeError if a parameter cannot be retrieved as an instance attribute. Previously it would return None.\n",
            "  FutureWarning)\n",
            "[Parallel(n_jobs=-1)]: Using backend LokyBackend with 2 concurrent workers.\n",
            "[Parallel(n_jobs=-1)]: Done  30 out of  30 | elapsed:  2.7min finished\n"
          ],
          "name": "stderr"
        },
        {
          "output_type": "execute_result",
          "data": {
            "text/plain": [
              "RandomizedSearchCV(cv=3, error_score=nan,\n",
              "                   estimator=CRF(algorithm='lbfgs', all_possible_states=None,\n",
              "                                 all_possible_transitions=True, averaging=None,\n",
              "                                 c=None, c1=None, c2=None,\n",
              "                                 calibration_candidates=None,\n",
              "                                 calibration_eta=None,\n",
              "                                 calibration_max_trials=None,\n",
              "                                 calibration_rate=None,\n",
              "                                 calibration_samples=None, delta=None,\n",
              "                                 epsilon=None, error_sensitive=None, gamma=None,\n",
              "                                 keep_...\n",
              "                                        'c2': <scipy.stats._distn_infrastructure.rv_frozen object at 0x7ff4c11f3198>},\n",
              "                   pre_dispatch='2*n_jobs', random_state=None, refit=True,\n",
              "                   return_train_score=False,\n",
              "                   scoring=make_scorer(flat_f1_score, average=weighted, labels=['B-location', 'I-location', 'B-title', 'I-title', 'B-company', 'B-product', 'B-person', 'B-other', 'I-other', 'B-group', 'I-group', 'I-product', 'I-company', 'I-person']),\n",
              "                   verbose=1)"
            ]
          },
          "metadata": {
            "tags": []
          },
          "execution_count": 88
        }
      ]
    },
    {
      "cell_type": "markdown",
      "metadata": {
        "id": "en-V95Voyknk",
        "colab_type": "text"
      },
      "source": [
        "# Best Parameters"
      ]
    },
    {
      "cell_type": "code",
      "metadata": {
        "id": "mNKWqjduynlm",
        "colab_type": "code",
        "colab": {
          "base_uri": "https://localhost:8080/",
          "height": 66
        },
        "outputId": "88ae5d82-7329-48de-db35-2a8eb1fd158a"
      },
      "source": [
        "print('best params:', rs.best_params_)\n",
        "print('best CV score:', rs.best_score_)\n",
        "print('model size: {:0.2f}M'.format(rs.best_estimator_.size_ / 1000000))"
      ],
      "execution_count": 89,
      "outputs": [
        {
          "output_type": "stream",
          "text": [
            "best params: {'c1': 0.2855989975415824, 'c2': 0.08409780434594832}\n",
            "best CV score: 0.05702233048689415\n",
            "model size: 1.00M\n"
          ],
          "name": "stdout"
        }
      ]
    },
    {
      "cell_type": "code",
      "metadata": {
        "id": "yx3EuRlo5kvv",
        "colab_type": "code",
        "colab": {
          "base_uri": "https://localhost:8080/",
          "height": 411
        },
        "outputId": "0039e1b1-4c29-41e7-9270-a55bad53f7d8"
      },
      "source": [
        "crf = rs.best_estimator_\n",
        "y_pred = crf.predict(X_dev)\n",
        "print(metrics.flat_classification_report(\n",
        "    y_dev, y_pred, labels=sorted_labels, digits=3\n",
        "))"
      ],
      "execution_count": 95,
      "outputs": [
        {
          "output_type": "stream",
          "text": [
            "/usr/local/lib/python3.6/dist-packages/sklearn/metrics/_classification.py:1272: UndefinedMetricWarning: Precision and F-score are ill-defined and being set to 0.0 in labels with no predicted samples. Use `zero_division` parameter to control this behavior.\n",
            "  _warn_prf(average, modifier, msg_start, len(result))\n"
          ],
          "name": "stderr"
        },
        {
          "output_type": "stream",
          "text": [
            "              precision    recall  f1-score   support\n",
            "\n",
            "   B-company      0.000     0.000     0.000       171\n",
            "   I-company      0.000     0.000     0.000        36\n",
            "     B-group      0.000     0.000     0.000       106\n",
            "     I-group      0.000     0.000     0.000        84\n",
            "  B-location      0.455     0.013     0.026       380\n",
            "  I-location      0.000     0.000     0.000       154\n",
            "     B-other      0.000     0.000     0.000       225\n",
            "     I-other      0.000     0.000     0.000       320\n",
            "    B-person      0.400     0.013     0.026       449\n",
            "    I-person      0.500     0.028     0.053       215\n",
            "   B-product      0.000     0.000     0.000        97\n",
            "   I-product      0.000     0.000     0.000        80\n",
            "     B-title      0.000     0.000     0.000        68\n",
            "     I-title      0.000     0.000     0.000        77\n",
            "\n",
            "   micro avg      0.447     0.007     0.014      2462\n",
            "   macro avg      0.097     0.004     0.007      2462\n",
            "weighted avg      0.187     0.007     0.013      2462\n",
            "\n"
          ],
          "name": "stdout"
        }
      ]
    },
    {
      "cell_type": "code",
      "metadata": {
        "id": "tVLpN_ce61Ze",
        "colab_type": "code",
        "colab": {
          "base_uri": "https://localhost:8080/",
          "height": 716
        },
        "outputId": "0696cb3e-5b40-450d-d788-7af9fb03938f"
      },
      "source": [
        "from collections import Counter\n",
        "\n",
        "def print_transitions(trans_features):\n",
        "    for (label_from, label_to), weight in trans_features:\n",
        "        print(\"%-6s -> %-7s %0.6f\" % (label_from, label_to, weight))\n",
        "\n",
        "print(\"Top likely transitions:\")\n",
        "print_transitions(Counter(crf.transition_features_).most_common(20))\n",
        "\n",
        "print(\"\\nTop unlikely transitions:\")\n",
        "print_transitions(Counter(crf.transition_features_).most_common()[-20:])"
      ],
      "execution_count": 96,
      "outputs": [
        {
          "output_type": "stream",
          "text": [
            "Top likely transitions:\n",
            "O      -> O       1.696730\n",
            "B-person -> I-person 0.744380\n",
            "I-other -> I-other 0.621639\n",
            "B-other -> I-other 0.590939\n",
            "O      -> B-person 0.504542\n",
            "O      -> B-location 0.443643\n",
            "B-location -> I-location 0.346572\n",
            "B-group -> I-group 0.182684\n",
            "B-title -> I-title 0.164092\n",
            "B-product -> I-product 0.158782\n",
            "B-location -> O       0.148248\n",
            "B-person -> O       0.106718\n",
            "O      -> B-other 0.092880\n",
            "O      -> B-company 0.059575\n",
            "I-location -> I-location 0.055824\n",
            "I-product -> I-product 0.047667\n",
            "B-company -> I-company 0.035962\n",
            "I-title -> I-title 0.033574\n",
            "I-group -> I-group 0.033435\n",
            "I-company -> I-company 0.010740\n",
            "\n",
            "Top unlikely transitions:\n",
            "B-location -> B-person -0.011673\n",
            "B-person -> B-location -0.011768\n",
            "B-person -> I-other -0.012723\n",
            "B-person -> B-person -0.014765\n",
            "O      -> B-title -0.041395\n",
            "I-group -> O       -0.051114\n",
            "B-other -> O       -0.065789\n",
            "I-title -> O       -0.085610\n",
            "I-product -> O       -0.094749\n",
            "B-group -> O       -0.099142\n",
            "B-product -> O       -0.100163\n",
            "I-company -> O       -0.210362\n",
            "B-title -> O       -0.248962\n",
            "O      -> I-company -0.336666\n",
            "O      -> I-group -0.337250\n",
            "O      -> I-title -0.341152\n",
            "O      -> I-product -0.341567\n",
            "O      -> I-location -0.351903\n",
            "O      -> I-person -0.369300\n",
            "O      -> I-other -0.382656\n"
          ],
          "name": "stdout"
        }
      ]
    },
    {
      "cell_type": "code",
      "metadata": {
        "id": "xh3d0PMU7HpF",
        "colab_type": "code",
        "colab": {
          "base_uri": "https://localhost:8080/",
          "height": 1000
        },
        "outputId": "d2356f12-20b4-48d2-cfee-6bb88a9c7ccc"
      },
      "source": [
        "def print_state_features(state_features):\n",
        "    for (attr, label), weight in state_features:\n",
        "        print(\"%0.6f %-8s %s\" % (weight, label, attr))\n",
        "\n",
        "print(\"Top positive:\")\n",
        "print_state_features(Counter(crf.state_features_).most_common(30))\n",
        "\n",
        "print(\"\\nTop negative:\")\n",
        "print_state_features(Counter(crf.state_features_).most_common()[-30:])"
      ],
      "execution_count": 97,
      "outputs": [
        {
          "output_type": "stream",
          "text": [
            "Top positive:\n",
            "2.506226 O        bias\n",
            "0.683610 O        BOS\n",
            "0.661999 B-person word.istitle()\n",
            "0.621411 I-other  -1:word.istitle()\n",
            "0.538803 I-person -1:word.istitle()\n",
            "0.488431 O        postag[:2]:VB\n",
            "0.458450 B-person postag[:2]:NN\n",
            "0.445222 O        -1:postag[:2]:PR\n",
            "0.442577 O        EOS\n",
            "0.439300 B-location -1:postag:IN\n",
            "0.439300 B-location -1:postag[:2]:IN\n",
            "0.426096 O        postag[:2]:PR\n",
            "0.406211 O        +1:postag[:2]:PR\n",
            "0.398361 B-person +1:word.istitle()\n",
            "0.378617 B-person postag:NN\n",
            "0.346770 O        postag:PRP\n",
            "0.346597 O        -1:postag:PRP\n",
            "0.344704 B-person postag:NNP\n",
            "0.333849 O        postag[:2]:RB\n",
            "0.333466 B-location postag[:2]:NN\n",
            "0.317942 O        postag:RB\n",
            "0.306274 O        +1:postag:PRP\n",
            "0.299992 B-location -1:word.lower():in\n",
            "0.293281 O        +1:postag:NN\n",
            "0.291796 O        postag:IN\n",
            "0.291796 O        postag[:2]:IN\n",
            "0.291168 O        -1:postag[:2]:VB\n",
            "0.289378 B-location postag:NNP\n",
            "0.278414 O        -1:postag[:2]:RB\n",
            "0.277654 O        -1:postag:.\n",
            "\n",
            "Top negative:\n",
            "-0.074483 I-title  postag[:2]:NN\n",
            "-0.077018 B-location -1:postag[:2]:NN\n",
            "-0.077808 B-product -1:postag[:2]:NN\n",
            "-0.081668 B-location BOS\n",
            "-0.083310 O        -1:postag:NNP\n",
            "-0.083740 B-title  -1:postag[:2]:NN\n",
            "-0.084187 O        word.lower():justin\n",
            "-0.084971 B-other  bias\n",
            "-0.085131 B-title  postag[:2]:NN\n",
            "-0.089455 B-other  -1:postag[:2]:NN\n",
            "-0.091584 I-company postag[:2]:NN\n",
            "-0.103059 I-person bias\n",
            "-0.117261 O        -1:postag:IN\n",
            "-0.117261 O        -1:postag[:2]:IN\n",
            "-0.119755 O        +1:postag:NNP\n",
            "-0.120762 O        -1:word.lower():at\n",
            "-0.135610 O        -1:word.lower():in\n",
            "-0.185270 B-company bias\n",
            "-0.207555 I-location bias\n",
            "-0.279669 I-title  bias\n",
            "-0.280946 I-product bias\n",
            "-0.282159 I-group  bias\n",
            "-0.285386 B-product bias\n",
            "-0.288419 B-group  bias\n",
            "-0.303740 O        -1:word.istitle()\n",
            "-0.328412 B-title  bias\n",
            "-0.346362 I-company bias\n",
            "-0.414748 O        +1:word.istitle()\n",
            "-0.889513 O        postag:NNP\n",
            "-1.585042 O        word.istitle()\n"
          ],
          "name": "stdout"
        }
      ]
    }
  ]
}