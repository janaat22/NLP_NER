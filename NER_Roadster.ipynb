{
  "nbformat": 4,
  "nbformat_minor": 0,
  "metadata": {
    "colab": {
      "name": "NER_Roadster.ipynb",
      "provenance": [],
      "toc_visible": true,
      "authorship_tag": "ABX9TyOpRKqffy5LFi7dkD5oxAvu",
      "include_colab_link": true
    },
    "kernelspec": {
      "name": "python3",
      "display_name": "Python 3"
    }
  },
  "cells": [
    {
      "cell_type": "markdown",
      "metadata": {
        "id": "view-in-github",
        "colab_type": "text"
      },
      "source": [
        "<a href=\"https://colab.research.google.com/github/janaat22/NLP_NER/blob/master/NER_Roadster.ipynb\" target=\"_parent\"><img src=\"https://colab.research.google.com/assets/colab-badge.svg\" alt=\"Open In Colab\"/></a>"
      ]
    },
    {
      "cell_type": "code",
      "metadata": {
        "id": "PrGaB4fxws8Z",
        "colab_type": "code",
        "colab": {}
      },
      "source": [
        "%matplotlib inline\n",
        "import matplotlib.pyplot as plt\n",
        "plt.style.use('ggplot')\n"
      ],
      "execution_count": 0,
      "outputs": []
    },
    {
      "cell_type": "code",
      "metadata": {
        "id": "e6ka8aPGPTba",
        "colab_type": "code",
        "outputId": "f1ab828c-85ce-40c5-b41a-22528b463e97",
        "colab": {
          "base_uri": "https://localhost:8080/",
          "height": 118
        }
      },
      "source": [
        "pip install sklearn-crfsuite\n"
      ],
      "execution_count": 114,
      "outputs": [
        {
          "output_type": "stream",
          "text": [
            "Requirement already satisfied: sklearn-crfsuite in /usr/local/lib/python3.6/dist-packages (0.3.6)\n",
            "Requirement already satisfied: python-crfsuite>=0.8.3 in /usr/local/lib/python3.6/dist-packages (from sklearn-crfsuite) (0.9.6)\n",
            "Requirement already satisfied: six in /usr/local/lib/python3.6/dist-packages (from sklearn-crfsuite) (1.12.0)\n",
            "Requirement already satisfied: tqdm>=2.0 in /usr/local/lib/python3.6/dist-packages (from sklearn-crfsuite) (4.28.1)\n",
            "Requirement already satisfied: tabulate in /usr/local/lib/python3.6/dist-packages (from sklearn-crfsuite) (0.8.6)\n"
          ],
          "name": "stdout"
        }
      ]
    },
    {
      "cell_type": "code",
      "metadata": {
        "id": "6dsA4N1aa2bw",
        "colab_type": "code",
        "outputId": "698c4ac1-6c2c-4413-fede-c48fcb6abcbc",
        "colab": {
          "base_uri": "https://localhost:8080/",
          "height": 50
        }
      },
      "source": [
        "pip install nltk"
      ],
      "execution_count": 115,
      "outputs": [
        {
          "output_type": "stream",
          "text": [
            "Requirement already satisfied: nltk in /usr/local/lib/python3.6/dist-packages (3.2.5)\n",
            "Requirement already satisfied: six in /usr/local/lib/python3.6/dist-packages (from nltk) (1.12.0)\n"
          ],
          "name": "stdout"
        }
      ]
    },
    {
      "cell_type": "code",
      "metadata": {
        "id": "0j-t8eVvoo20",
        "colab_type": "code",
        "colab": {}
      },
      "source": [
        "import nltk"
      ],
      "execution_count": 0,
      "outputs": []
    },
    {
      "cell_type": "code",
      "metadata": {
        "id": "thJDwo1WPRqB",
        "colab_type": "code",
        "outputId": "7a6676db-2ff5-4258-af00-1716f7718106",
        "colab": {
          "base_uri": "https://localhost:8080/",
          "height": 66
        }
      },
      "source": [
        "nltk.download('wordnet')"
      ],
      "execution_count": 117,
      "outputs": [
        {
          "output_type": "stream",
          "text": [
            "[nltk_data] Downloading package wordnet to /root/nltk_data...\n",
            "[nltk_data]   Package wordnet is already up-to-date!\n"
          ],
          "name": "stdout"
        },
        {
          "output_type": "execute_result",
          "data": {
            "text/plain": [
              "True"
            ]
          },
          "metadata": {
            "tags": []
          },
          "execution_count": 117
        }
      ]
    },
    {
      "cell_type": "code",
      "metadata": {
        "id": "2O9l5LQBWW7x",
        "colab_type": "code",
        "outputId": "cab3bd82-0768-48a1-89c4-ca5b675de0d3",
        "colab": {
          "base_uri": "https://localhost:8080/",
          "height": 66
        }
      },
      "source": [
        "nltk.download('gazetteers')"
      ],
      "execution_count": 118,
      "outputs": [
        {
          "output_type": "stream",
          "text": [
            "[nltk_data] Downloading package gazetteers to /root/nltk_data...\n",
            "[nltk_data]   Package gazetteers is already up-to-date!\n"
          ],
          "name": "stdout"
        },
        {
          "output_type": "execute_result",
          "data": {
            "text/plain": [
              "True"
            ]
          },
          "metadata": {
            "tags": []
          },
          "execution_count": 118
        }
      ]
    },
    {
      "cell_type": "code",
      "metadata": {
        "id": "jImbwdA2Yh_H",
        "colab_type": "code",
        "outputId": "103a1bd5-4946-44c6-93bc-878c9dc4a160",
        "colab": {
          "base_uri": "https://localhost:8080/",
          "height": 66
        }
      },
      "source": [
        "nltk.download('names')"
      ],
      "execution_count": 119,
      "outputs": [
        {
          "output_type": "stream",
          "text": [
            "[nltk_data] Downloading package names to /root/nltk_data...\n",
            "[nltk_data]   Package names is already up-to-date!\n"
          ],
          "name": "stdout"
        },
        {
          "output_type": "execute_result",
          "data": {
            "text/plain": [
              "True"
            ]
          },
          "metadata": {
            "tags": []
          },
          "execution_count": 119
        }
      ]
    },
    {
      "cell_type": "code",
      "metadata": {
        "id": "mTWW3NnewSjd",
        "colab_type": "code",
        "colab": {}
      },
      "source": [
        "from itertools import chain\n",
        "\n",
        "\n",
        "import sklearn\n",
        "import scipy.stats\n",
        "#Modeling\n",
        "from sklearn.model_selection import cross_val_predict, cross_val_score\n",
        "from sklearn.model_selection import train_test_split\n",
        "from sklearn.model_selection import learning_curve, GridSearchCV\n",
        "from sklearn.model_selection import RandomizedSearchCV\n",
        "#from sklearn_crfsuite import CRF, scorers, metrics\n",
        "import sklearn_crfsuite\n",
        "from sklearn_crfsuite import CRF\n",
        "from sklearn_crfsuite import scorers\n",
        "from sklearn_crfsuite import metrics\n",
        "from sklearn_crfsuite.metrics import flat_classification_report\n",
        "from sklearn.metrics import classification_report, make_scorer\n",
        "\n",
        "from nltk.stem.porter import *\n",
        "from nltk.stem import SnowballStemmer\n",
        "from nltk.stem import WordNetLemmatizer\n",
        "\n",
        "from nltk.corpus import names, ieer, gazetteers"
      ],
      "execution_count": 0,
      "outputs": []
    },
    {
      "cell_type": "code",
      "metadata": {
        "id": "Rt5VOIA4WOUC",
        "colab_type": "code",
        "colab": {}
      },
      "source": [
        "locations = gazetteers.words()\n",
        "locations = [x.lower() for x in locations]\n",
        "names_list = names.words()\n",
        "names_list = [x.lower() for x in names_list]"
      ],
      "execution_count": 0,
      "outputs": []
    },
    {
      "cell_type": "code",
      "metadata": {
        "id": "_PI9CoHKWZej",
        "colab_type": "code",
        "outputId": "e040c9d8-fe22-4add-aa49-97e211d2e575",
        "colab": {
          "base_uri": "https://localhost:8080/",
          "height": 33
        }
      },
      "source": [
        "word = 'LA'\n",
        "word.lower() in locations"
      ],
      "execution_count": 122,
      "outputs": [
        {
          "output_type": "execute_result",
          "data": {
            "text/plain": [
              "True"
            ]
          },
          "metadata": {
            "tags": []
          },
          "execution_count": 122
        }
      ]
    },
    {
      "cell_type": "code",
      "metadata": {
        "id": "FRc0x0xJQmI_",
        "colab_type": "code",
        "outputId": "5c7730d8-5cb3-4566-958f-2e5fb6f58ecd",
        "colab": {
          "base_uri": "https://localhost:8080/",
          "height": 131
        }
      },
      "source": [
        "import pandas as pd\n",
        "import numpy as np\n",
        "import nltk\n",
        "nltk.download('punkt')\n",
        "nltk.download('averaged_perceptron_tagger')"
      ],
      "execution_count": 123,
      "outputs": [
        {
          "output_type": "stream",
          "text": [
            "[nltk_data] Downloading package punkt to /root/nltk_data...\n",
            "[nltk_data]   Package punkt is already up-to-date!\n",
            "[nltk_data] Downloading package averaged_perceptron_tagger to\n",
            "[nltk_data]     /root/nltk_data...\n",
            "[nltk_data]   Package averaged_perceptron_tagger is already up-to-\n",
            "[nltk_data]       date!\n"
          ],
          "name": "stdout"
        },
        {
          "output_type": "execute_result",
          "data": {
            "text/plain": [
              "True"
            ]
          },
          "metadata": {
            "tags": []
          },
          "execution_count": 123
        }
      ]
    },
    {
      "cell_type": "code",
      "metadata": {
        "id": "Hrv4xwf5Q3s4",
        "colab_type": "code",
        "colab": {}
      },
      "source": [
        "\n",
        "\n",
        "def file_to_list(file_name):  \n",
        "  training_key_value = []\n",
        "  word_dict = {}\n",
        "  tags = {}\n",
        "  word_list = []\n",
        "  sentence = 1\n",
        "  file1 = open(file_name, 'r')\n",
        "  Lines = file1.readlines() \n",
        "  for line in Lines:    \n",
        "    training_key_value = line.split()\n",
        "    if(len(training_key_value) == 2):\n",
        "      word = training_key_value[0]\n",
        "      tag = training_key_value[1]\n",
        "      word_dict[word] = tag\n",
        "      tokenized = nltk.word_tokenize(word)\n",
        "      tagged = nltk.pos_tag(tokenized)\n",
        "      word_list.append(([sentence, word, tagged[0][1], tag])) \n",
        "      tags.update(tagged)\n",
        "    else:\n",
        "      sentence = sentence + 1\n",
        "    file1.close()\n",
        "  return word_dict,word_list\n",
        "\n",
        "#Train data\n",
        "word_dict_train, word_list_train = file_to_list('train.txt')\n",
        "# print(word_dict_train.keys())\n",
        "# array_of_words_train = np.array(list(word_dict_train.keys()))\n",
        "# array_of_values_train = np.array(list(word_dict_train.values()))\n",
        "# X_Y_train = np.column_stack((array_of_words_train, array_of_values_train))\n",
        "\n",
        "#Dev data\n",
        "word_dict_dev,word_list_dev = file_to_list('dev.txt')\n",
        "# array_of_words_dev = np.array(list(word_dict_dev.keys()))\n",
        "# array_of_values_dev = np.array(list(word_dict_dev.values()))\n",
        "# X_Y_dev = np.column_stack((array_of_words_dev, array_of_values_dev))\n",
        "\n",
        "\n"
      ],
      "execution_count": 0,
      "outputs": []
    },
    {
      "cell_type": "code",
      "metadata": {
        "id": "l66r5zeKounW",
        "colab_type": "code",
        "colab": {}
      },
      "source": [
        "def file_to_list_test(file_name):  \n",
        "  training_key_value = []\n",
        "  word_dict = {}  \n",
        "  word_list = []\n",
        "  training_key_value = [] \n",
        "  test_word_list = []\n",
        "  file1 = open(file_name, 'r')\n",
        "  sentence_num = 1\n",
        "  Lines = file1.readlines() \n",
        "  # print(\"print\" + str(len(Lines[11].split('\\n'))))\n",
        "  for line in Lines:    \n",
        "    if(len(line) > 1):      \n",
        "      word = line.replace('\\n', '')\n",
        "      tokenized = nltk.word_tokenize(word)\n",
        "      tagged = nltk.pos_tag(tokenized)\n",
        "      # print(sentence_num)\n",
        "      test_word_list.append(([sentence_num, word, tagged[0][1]]))\n",
        "    else:\n",
        "      # print(\"\\nelse\")\n",
        "      sentence_num = sentence_num + 1\n",
        "  file1.close()\n",
        "  return test_word_list\n",
        "\n",
        "\n",
        "\n",
        "#Test data\n",
        "word_list_test = file_to_list_test('test_no_tag.txt')\n"
      ],
      "execution_count": 0,
      "outputs": []
    },
    {
      "cell_type": "code",
      "metadata": {
        "id": "u0rkLgvaS1U8",
        "colab_type": "code",
        "outputId": "c3e6ed8a-73b2-4744-8403-cae56698f784",
        "colab": {
          "base_uri": "https://localhost:8080/",
          "height": 358
        }
      },
      "source": [
        "train_data = pd.DataFrame(word_list_train)\n",
        "print(train_data.head(n = 4))\n",
        "\n",
        "dev_data = pd.DataFrame(word_list_dev)\n",
        "print(dev_data.head(n = 4))\n",
        "\n",
        "\n",
        "test_data = pd.DataFrame(word_list_test)\n",
        "print(test_data.head(n = 10))\n",
        "# print(word_list_test)"
      ],
      "execution_count": 126,
      "outputs": [
        {
          "output_type": "stream",
          "text": [
            "   0                1    2  3\n",
            "0  1  @SammieLynnsMom   NN  O\n",
            "1  1         @tg10781   NN  O\n",
            "2  1             they  PRP  O\n",
            "3  1             will   MD  O\n",
            "   0       1   2  3\n",
            "0  1    STOP  NN  O\n",
            "1  1    WHAT  WP  O\n",
            "2  1  YOU'RE  NN  O\n",
            "3  1   DOING  NN  O\n",
            "   0         1    2\n",
            "0  1        We  PRP\n",
            "1  1       're  VBP\n",
            "2  1    slaves  NNS\n",
            "3  1        to   TO\n",
            "4  1         a   DT\n",
            "5  1     world   NN\n",
            "6  1        we  PRP\n",
            "7  1  mastered  VBN\n",
            "8  1         .    .\n",
            "9  2         I  PRP\n"
          ],
          "name": "stdout"
        }
      ]
    },
    {
      "cell_type": "code",
      "metadata": {
        "id": "6ji8x2h_UjQ0",
        "colab_type": "code",
        "outputId": "e68a2a7f-7240-4b85-9162-33491023a26d",
        "colab": {
          "base_uri": "https://localhost:8080/",
          "height": 335
        }
      },
      "source": [
        "# train_data.columns = train_data.iloc[1]\n",
        "# train_data = train_data[1:]\n",
        "train_data.columns = ['Sentence','Word','POS','Tag']\n",
        "# train_data = train_data.reset_index(drop=True)\n",
        "train_data.head(n=5)\n",
        "\n",
        "# dev_data.columns = dev_data.iloc[1]\n",
        "# dev_data = dev_data[1:]\n",
        "dev_data.columns = ['Sentence','Word','POS','Tag']\n",
        "# dev_data = dev_data.reset_index(drop=True)\n",
        "dev_data.head(n=5)\n",
        "\n",
        "# test_data.columns = test_data.iloc[0]\n",
        "# test_data = test_data[0:]\n",
        "test_data.columns = ['Sentence','Word','POS']\n",
        "# test_data = test_data.reset_index(drop=True)\n",
        "test_data.head(n= 10)\n"
      ],
      "execution_count": 127,
      "outputs": [
        {
          "output_type": "execute_result",
          "data": {
            "text/html": [
              "<div>\n",
              "<style scoped>\n",
              "    .dataframe tbody tr th:only-of-type {\n",
              "        vertical-align: middle;\n",
              "    }\n",
              "\n",
              "    .dataframe tbody tr th {\n",
              "        vertical-align: top;\n",
              "    }\n",
              "\n",
              "    .dataframe thead th {\n",
              "        text-align: right;\n",
              "    }\n",
              "</style>\n",
              "<table border=\"1\" class=\"dataframe\">\n",
              "  <thead>\n",
              "    <tr style=\"text-align: right;\">\n",
              "      <th></th>\n",
              "      <th>Sentence</th>\n",
              "      <th>Word</th>\n",
              "      <th>POS</th>\n",
              "    </tr>\n",
              "  </thead>\n",
              "  <tbody>\n",
              "    <tr>\n",
              "      <th>0</th>\n",
              "      <td>1</td>\n",
              "      <td>We</td>\n",
              "      <td>PRP</td>\n",
              "    </tr>\n",
              "    <tr>\n",
              "      <th>1</th>\n",
              "      <td>1</td>\n",
              "      <td>'re</td>\n",
              "      <td>VBP</td>\n",
              "    </tr>\n",
              "    <tr>\n",
              "      <th>2</th>\n",
              "      <td>1</td>\n",
              "      <td>slaves</td>\n",
              "      <td>NNS</td>\n",
              "    </tr>\n",
              "    <tr>\n",
              "      <th>3</th>\n",
              "      <td>1</td>\n",
              "      <td>to</td>\n",
              "      <td>TO</td>\n",
              "    </tr>\n",
              "    <tr>\n",
              "      <th>4</th>\n",
              "      <td>1</td>\n",
              "      <td>a</td>\n",
              "      <td>DT</td>\n",
              "    </tr>\n",
              "    <tr>\n",
              "      <th>5</th>\n",
              "      <td>1</td>\n",
              "      <td>world</td>\n",
              "      <td>NN</td>\n",
              "    </tr>\n",
              "    <tr>\n",
              "      <th>6</th>\n",
              "      <td>1</td>\n",
              "      <td>we</td>\n",
              "      <td>PRP</td>\n",
              "    </tr>\n",
              "    <tr>\n",
              "      <th>7</th>\n",
              "      <td>1</td>\n",
              "      <td>mastered</td>\n",
              "      <td>VBN</td>\n",
              "    </tr>\n",
              "    <tr>\n",
              "      <th>8</th>\n",
              "      <td>1</td>\n",
              "      <td>.</td>\n",
              "      <td>.</td>\n",
              "    </tr>\n",
              "    <tr>\n",
              "      <th>9</th>\n",
              "      <td>2</td>\n",
              "      <td>I</td>\n",
              "      <td>PRP</td>\n",
              "    </tr>\n",
              "  </tbody>\n",
              "</table>\n",
              "</div>"
            ],
            "text/plain": [
              "   Sentence      Word  POS\n",
              "0         1        We  PRP\n",
              "1         1       're  VBP\n",
              "2         1    slaves  NNS\n",
              "3         1        to   TO\n",
              "4         1         a   DT\n",
              "5         1     world   NN\n",
              "6         1        we  PRP\n",
              "7         1  mastered  VBN\n",
              "8         1         .    .\n",
              "9         2         I  PRP"
            ]
          },
          "metadata": {
            "tags": []
          },
          "execution_count": 127
        }
      ]
    },
    {
      "cell_type": "code",
      "metadata": {
        "id": "9_9RMWAP1JO5",
        "colab_type": "code",
        "outputId": "13a22de2-1a30-482a-d40c-d0207ec9f2ec",
        "colab": {
          "base_uri": "https://localhost:8080/",
          "height": 33
        }
      },
      "source": [
        "test_data.shape"
      ],
      "execution_count": 128,
      "outputs": [
        {
          "output_type": "execute_result",
          "data": {
            "text/plain": [
              "(42413, 3)"
            ]
          },
          "metadata": {
            "tags": []
          },
          "execution_count": 128
        }
      ]
    },
    {
      "cell_type": "code",
      "metadata": {
        "id": "QkRTyTd9Uo9h",
        "colab_type": "code",
        "colab": {}
      },
      "source": [
        "# A class to retrieve the sentences from the dataset\n",
        "class getsentence(object):\n",
        "    \n",
        "    def __init__(self, data):\n",
        "        self.n_sent = 1.0\n",
        "        self.data = data\n",
        "        self.empty = False\n",
        "        agg_func = lambda s: [(w, p, t) for w, p, t in zip(s[\"Word\"].values.tolist(),\n",
        "                                                           s[\"POS\"].values.tolist(),\n",
        "                                                           s[\"Tag\"].values.tolist())]\n",
        "        self.grouped = self.data.groupby(\"Sentence\").apply(agg_func)\n",
        "        self.sentences = [s for s in self.grouped]\n",
        "\n",
        "class getsentence_ForTest(object):\n",
        "    \n",
        "    def __init__(self, data):\n",
        "        self.n_sent = 1.0\n",
        "        self.data = data\n",
        "        self.empty = False\n",
        "        agg_func = lambda s: [(w, p) for w, p in zip(s[\"Word\"].values.tolist(),\n",
        "                                                           s[\"POS\"].values.tolist())\n",
        "                                                      ]\n",
        "        self.grouped = self.data.groupby(\"Sentence\").apply(agg_func)\n",
        "        self.sentences = [s for s in self.grouped]"
      ],
      "execution_count": 0,
      "outputs": []
    },
    {
      "cell_type": "code",
      "metadata": {
        "id": "c7FvegeoWp-5",
        "colab_type": "code",
        "outputId": "70fc7a58-2304-4a48-8291-0509a209ccf1",
        "colab": {
          "base_uri": "https://localhost:8080/",
          "height": 53
        }
      },
      "source": [
        "train_getter = getsentence(train_data)\n",
        "train_sentences = train_getter.sentences\n",
        "\n",
        "dev_getter = getsentence(dev_data)\n",
        "dev_sentences = dev_getter.sentences\n",
        "\n",
        "test_getter = getsentence_ForTest(test_data)\n",
        "test_sentences = test_getter.sentences\n",
        "\n",
        "#This is how a sentence will look like. \n",
        "print(train_sentences[0])"
      ],
      "execution_count": 130,
      "outputs": [
        {
          "output_type": "stream",
          "text": [
            "[('@SammieLynnsMom', 'NN', 'O'), ('@tg10781', 'NN', 'O'), ('they', 'PRP', 'O'), ('will', 'MD', 'O'), ('be', 'VB', 'O'), ('all', 'DT', 'O'), ('done', 'VBN', 'O'), ('by', 'IN', 'O'), ('Sunday', 'NNP', 'O'), ('trust', 'NN', 'O'), ('me', 'PRP', 'O'), ('*wink*', 'NN', 'O')]\n"
          ],
          "name": "stdout"
        }
      ]
    },
    {
      "cell_type": "code",
      "metadata": {
        "id": "4bZI96NRXMJZ",
        "colab_type": "code",
        "colab": {}
      },
      "source": [
        "stemmer = PorterStemmer()\n",
        "lemmatizer = WordNetLemmatizer()\n",
        "# Feature set\n",
        "def word2features(sent, i):\n",
        "    word = sent[i][0]\n",
        "    postag = sent[i][1]\n",
        "    \n",
        "    features = {\n",
        "        'bias': 1.0,\n",
        "        # 'word.lower()': word.lower(),\n",
        "        'word[-3:]': word[-3:],\n",
        "        'word[-2:]': word[-2:],\n",
        "        'word.isupper()': word.isupper(),\n",
        "        'word.istitle()': word.istitle(),\n",
        "        'word.isdigit()': word.isdigit(),\n",
        "        'postag': postag,\n",
        "        'postag[:2]': postag[:2],\n",
        "        'inLocations': word.lower() in locations,\n",
        "        'inNames' : word.lower() in names_list,\n",
        "        'isTag' : word.find('@'),\n",
        "        'hasCapitalLetter' : word[0].isupper(),\n",
        "        'stem' : stemmer.stem(word),        \n",
        "        # 'lemma' : lemmatizer.lemmatize(word),\n",
        "    }\n",
        "    if i > 0:\n",
        "        word1 = sent[i-1][0]\n",
        "        postag1 = sent[i-1][1]\n",
        "        features.update({\n",
        "            '-1:word.lower()': word1.lower(),\n",
        "            '-1:word.istitle()': word1.istitle(),\n",
        "            '-1:word.isupper()': word1.isupper(),\n",
        "            '-1:postag': postag1,\n",
        "            '-1:postag[:2]': postag1[:2],\n",
        "            '-1:inLocations': word1.lower() in locations,\n",
        "            '-1:inNames' : word1.lower() in names_list,\n",
        "            '-1:hasCapitalLetter' : word1[0].isupper(),\n",
        "            '-1:stem' : stemmer.stem(word1),            \n",
        "            # '-1:lemma' : lemmatizer.lemmatize(word1),\n",
        "             \n",
        "        })\n",
        "    else:\n",
        "        features['BOS'] = True\n",
        "\n",
        "    if i < len(sent)-1:\n",
        "        word1 = sent[i+1][0]\n",
        "        postag1 = sent[i+1][1]\n",
        "        features.update({\n",
        "            # '+1:word.lower()': word1.lower(),\n",
        "            '+1:word.istitle()': word1.istitle(),\n",
        "            '+1:word.isupper()': word1.isupper(),\n",
        "            '+1:postag': postag1,\n",
        "            '+1:postag[:2]': postag1[:2],\n",
        "            '+1:inLocations': word1.lower() in locations,\n",
        "            '+1:inNames' : word1.lower() in names_list,\n",
        "            '+1:hasCapitalLetter' : word1[0].isupper(),\n",
        "            '+1:stem' : stemmer.stem(word1),            \n",
        "            # '+1:lemma' : lemmatizer.lemmatize(word),\n",
        "        })\n",
        "    else:\n",
        "        features['EOS'] = True\n",
        "\n",
        "    return features\n",
        "\n",
        "\n",
        "def sent2features(sent):\n",
        "    return [word2features(sent, i) for i in range(len(sent))]\n",
        "\n",
        "def sent2labels(sent):\n",
        "    return [label for token, postag, label in sent]\n",
        "\n",
        "def sent2tokens(sent):\n",
        "    return [token for token, postag, label in sent]"
      ],
      "execution_count": 0,
      "outputs": []
    },
    {
      "cell_type": "code",
      "metadata": {
        "id": "viReG1-QHWmo",
        "colab_type": "code",
        "colab": {}
      },
      "source": [
        ""
      ],
      "execution_count": 0,
      "outputs": []
    },
    {
      "cell_type": "code",
      "metadata": {
        "id": "bDRJbpFeqDxp",
        "colab_type": "code",
        "outputId": "62de7121-3187-4900-c5e3-98a176e45c84",
        "colab": {
          "base_uri": "https://localhost:8080/",
          "height": 411
        }
      },
      "source": [
        "print(test_sentences[5])\n",
        "sent2features(train_sentences[3])[0]\n",
        "# sent2features(test_sentences[7])[0]"
      ],
      "execution_count": 132,
      "outputs": [
        {
          "output_type": "stream",
          "text": [
            "[('Happy', 'JJ'), ('v-day', 'NN'), ('😌', 'NN'), ('❤', 'NN'), ('️', 'NN'), ('😂😂😂😂', 'NN'), ('#noshame', '#')]\n"
          ],
          "name": "stdout"
        },
        {
          "output_type": "execute_result",
          "data": {
            "text/plain": [
              "{'+1:hasCapitalLetter': False,\n",
              " '+1:inLocations': False,\n",
              " '+1:inNames': False,\n",
              " '+1:postag': 'RB',\n",
              " '+1:postag[:2]': 'RB',\n",
              " '+1:stem': 'perhap',\n",
              " '+1:word.istitle()': False,\n",
              " '+1:word.isupper()': False,\n",
              " 'BOS': True,\n",
              " 'bias': 1.0,\n",
              " 'hasCapitalLetter': False,\n",
              " 'inLocations': False,\n",
              " 'inNames': False,\n",
              " 'isTag': 0,\n",
              " 'postag': 'NN',\n",
              " 'postag[:2]': 'NN',\n",
              " 'stem': '@ls_n',\n",
              " 'word.isdigit()': False,\n",
              " 'word.istitle()': False,\n",
              " 'word.isupper()': False,\n",
              " 'word[-2:]': '_n',\n",
              " 'word[-3:]': 's_n'}"
            ]
          },
          "metadata": {
            "tags": []
          },
          "execution_count": 132
        }
      ]
    },
    {
      "cell_type": "code",
      "metadata": {
        "id": "QBmR_UsEW5YZ",
        "colab_type": "code",
        "colab": {}
      },
      "source": [
        "#Creating the train and test set\n",
        "\n",
        "X_train = [sent2features(s) for s in train_sentences]\n",
        "y_train = [sent2labels(s) for s in train_sentences]\n",
        "\n",
        "X_dev = [sent2features(s) for s in dev_sentences]\n",
        "y_dev = [sent2labels(s) for s in dev_sentences]\n",
        "\n",
        "X_test = [sent2features(s) for s in test_sentences]\n"
      ],
      "execution_count": 0,
      "outputs": []
    },
    {
      "cell_type": "code",
      "metadata": {
        "id": "UleMIHP0X6Q2",
        "colab_type": "code",
        "colab": {}
      },
      "source": [
        "#Creating the CRF model\n",
        "crf = CRF(algorithm='lbfgs',\n",
        "          c1=0.1,\n",
        "          c2=0.1,\n",
        "          max_iterations=100,\n",
        "          all_possible_transitions=False)"
      ],
      "execution_count": 0,
      "outputs": []
    },
    {
      "cell_type": "code",
      "metadata": {
        "id": "w5xOekAmX9V8",
        "colab_type": "code",
        "colab": {}
      },
      "source": [
        "crf = crf.fit(X_train,y_train)"
      ],
      "execution_count": 0,
      "outputs": []
    },
    {
      "cell_type": "code",
      "metadata": {
        "id": "nzYVpfgI1ed2",
        "colab_type": "code",
        "outputId": "68f51b99-7f5e-4ca4-9a40-d683e265c390",
        "colab": {
          "base_uri": "https://localhost:8080/",
          "height": 70
        }
      },
      "source": [
        "pred = cross_val_predict(estimator=crf, X = X_train,y = y_train, cv=10)"
      ],
      "execution_count": 136,
      "outputs": [
        {
          "output_type": "stream",
          "text": [
            "/usr/local/lib/python3.6/dist-packages/sklearn/base.py:197: FutureWarning: From version 0.24, get_params will raise an AttributeError if a parameter cannot be retrieved as an instance attribute. Previously it would return None.\n",
            "  FutureWarning)\n"
          ],
          "name": "stderr"
        }
      ]
    },
    {
      "cell_type": "code",
      "metadata": {
        "id": "OwRdHqK72JXv",
        "colab_type": "code",
        "outputId": "cc2dc9ea-b3d3-4ed4-e5d4-8348fb68aca7",
        "colab": {
          "base_uri": "https://localhost:8080/",
          "height": 375
        }
      },
      "source": [
        "#evaluate the model\n",
        "report = flat_classification_report(y_pred=pred, y_true=y_train)\n",
        "print(report)\n",
        "# f1 = metrics.flat_f1_score(y_train, y_pred, average='weighted', labels=labels)\n",
        "# print(\"F1 weighted avg: \" + str(f1))"
      ],
      "execution_count": 137,
      "outputs": [
        {
          "output_type": "stream",
          "text": [
            "              precision    recall  f1-score   support\n",
            "\n",
            "   B-company       0.88      0.47      0.61       171\n",
            "     B-group       0.51      0.18      0.27       106\n",
            "  B-location       0.77      0.54      0.63       380\n",
            "     B-other       0.55      0.27      0.36       225\n",
            "    B-person       0.79      0.63      0.70       449\n",
            "   B-product       0.74      0.21      0.32        97\n",
            "     B-title       0.56      0.22      0.32        68\n",
            "   I-company       0.67      0.11      0.19        36\n",
            "     I-group       0.34      0.13      0.19        84\n",
            "  I-location       0.58      0.34      0.43       154\n",
            "     I-other       0.50      0.30      0.37       320\n",
            "    I-person       0.79      0.70      0.74       215\n",
            "   I-product       0.65      0.19      0.29        80\n",
            "     I-title       0.45      0.19      0.27        77\n",
            "           O       0.97      0.99      0.98     44007\n",
            "\n",
            "    accuracy                           0.96     46469\n",
            "   macro avg       0.65      0.36      0.45     46469\n",
            "weighted avg       0.96      0.96      0.96     46469\n",
            "\n"
          ],
          "name": "stdout"
        }
      ]
    },
    {
      "cell_type": "code",
      "metadata": {
        "id": "POk26KMItTJs",
        "colab_type": "code",
        "outputId": "d6413d5a-3190-4588-d1d6-94e21f39da73",
        "colab": {
          "base_uri": "https://localhost:8080/",
          "height": 53
        }
      },
      "source": [
        "# labels = list(crf.classes_)\n",
        "\n",
        "# labels.remove('O')\n",
        "print(labels)\n"
      ],
      "execution_count": 138,
      "outputs": [
        {
          "output_type": "stream",
          "text": [
            "['B-location', 'I-location', 'B-title', 'I-title', 'B-company', 'B-product', 'B-person', 'B-other', 'I-other', 'B-group', 'I-group', 'I-product', 'I-company', 'I-person']\n"
          ],
          "name": "stdout"
        }
      ]
    },
    {
      "cell_type": "markdown",
      "metadata": {
        "id": "ybkKJgm949gA",
        "colab_type": "text"
      },
      "source": [
        ""
      ]
    },
    {
      "cell_type": "code",
      "metadata": {
        "id": "1bQ09BiitZR4",
        "colab_type": "code",
        "outputId": "6b70b55d-1928-4de2-de6a-4ad78f8c37de",
        "colab": {
          "base_uri": "https://localhost:8080/",
          "height": 33
        }
      },
      "source": [
        "y_pred = crf.predict(X_dev)\n",
        "metrics.flat_f1_score(y_dev, y_pred,\n",
        "                      average='weighted', labels=labels)"
      ],
      "execution_count": 139,
      "outputs": [
        {
          "output_type": "execute_result",
          "data": {
            "text/plain": [
              "0.3044540443631359"
            ]
          },
          "metadata": {
            "tags": []
          },
          "execution_count": 139
        }
      ]
    },
    {
      "cell_type": "code",
      "metadata": {
        "id": "k6QeV_Ottu5O",
        "colab_type": "code",
        "outputId": "a0ad2d3a-6bb5-4c09-e011-97d19af8fe81",
        "colab": {
          "base_uri": "https://localhost:8080/",
          "height": 423
        }
      },
      "source": [
        "# group B and I results\n",
        "sorted_labels = sorted(\n",
        "    labels,\n",
        "    key=lambda name: (name[1:], name[0])\n",
        ")\n",
        "print(metrics.flat_classification_report(\n",
        "    y_dev, y_pred, labels=sorted_labels, digits=3\n",
        "))\n",
        "\n",
        "accuracy = metrics.flat_accuracy_score(y_dev, y_pred)\n",
        "print(\"Accuracy: \" + str(accuracy))\n",
        "f1 = metrics.flat_f1_score(y_dev, y_pred, average='weighted', labels=labels)\n",
        "precision = metrics.flat_precision_score(y_dev, y_pred, average='weighted', labels=labels)\n",
        "print(\"Precision : \"  + str(precision))\n",
        "\n",
        "recall = metrics.flat_recall_score(y_dev, y_pred, average='weighted', labels=labels)\n",
        "print(\"Recall : \" + str(recall))\n",
        "print(\"F1 weighted avg: \" + str(f1))"
      ],
      "execution_count": 140,
      "outputs": [
        {
          "output_type": "stream",
          "text": [
            "              precision    recall  f1-score   support\n",
            "\n",
            "   B-company      0.500     0.205     0.291        39\n",
            "   I-company      0.000     0.000     0.000        10\n",
            "     B-group      0.273     0.027     0.049       111\n",
            "     I-group      0.000     0.000     0.000        48\n",
            "  B-location      0.609     0.455     0.520       154\n",
            "  I-location      0.556     0.370     0.444        81\n",
            "     B-other      0.383     0.136     0.201       132\n",
            "     I-other      0.211     0.237     0.223        97\n",
            "    B-person      0.621     0.509     0.559       171\n",
            "    I-person      0.600     0.632     0.615        95\n",
            "   B-product      0.250     0.027     0.049        37\n",
            "   I-product      0.333     0.017     0.031       121\n",
            "     B-title      0.125     0.059     0.080        17\n",
            "     I-title      0.091     0.067     0.077        15\n",
            "\n",
            "   micro avg      0.482     0.270     0.346      1128\n",
            "   macro avg      0.325     0.196     0.224      1128\n",
            "weighted avg      0.422     0.270     0.304      1128\n",
            "\n",
            "Accuracy: 0.9415780087325503\n",
            "Precision : 0.42186985329466653\n",
            "Recall : 0.2695035460992908\n",
            "F1 weighted avg: 0.3044540443631359\n"
          ],
          "name": "stdout"
        }
      ]
    },
    {
      "cell_type": "markdown",
      "metadata": {
        "id": "ncsWQQu1xMJu",
        "colab_type": "text"
      },
      "source": [
        "# Hyper Parameter Optimization"
      ]
    },
    {
      "cell_type": "code",
      "metadata": {
        "id": "N4_KUUszxQie",
        "colab_type": "code",
        "outputId": "619ad058-fccc-4bbd-918d-31a14b55769c",
        "colab": {
          "base_uri": "https://localhost:8080/",
          "height": 395
        }
      },
      "source": [
        "Model_X = CRF(\n",
        "    algorithm='lbfgs',\n",
        "    max_iterations=100,\n",
        "    all_possible_transitions=True\n",
        ")\n",
        "params_space = {\n",
        "    'c1': scipy.stats.expon(scale=0.5),\n",
        "    'c2': scipy.stats.expon(scale=0.05),\n",
        "}\n",
        "\n",
        "# use the same metric for evaluation\n",
        "f1_scorer = make_scorer(metrics.flat_f1_score,\n",
        "                        average='weighted', labels=labels)\n",
        "\n",
        "# search\n",
        "rs = RandomizedSearchCV(crf, params_space,\n",
        "                        cv=3,\n",
        "                        verbose=1,\n",
        "                        n_jobs=-1,\n",
        "                        n_iter=50,\n",
        "                        scoring=f1_scorer)\n",
        "rs.fit(X_train, y_train)"
      ],
      "execution_count": 141,
      "outputs": [
        {
          "output_type": "stream",
          "text": [
            "Fitting 3 folds for each of 50 candidates, totalling 150 fits\n"
          ],
          "name": "stdout"
        },
        {
          "output_type": "stream",
          "text": [
            "/usr/local/lib/python3.6/dist-packages/sklearn/base.py:197: FutureWarning: From version 0.24, get_params will raise an AttributeError if a parameter cannot be retrieved as an instance attribute. Previously it would return None.\n",
            "  FutureWarning)\n",
            "[Parallel(n_jobs=-1)]: Using backend LokyBackend with 2 concurrent workers.\n",
            "[Parallel(n_jobs=-1)]: Done  46 tasks      | elapsed: 10.8min\n",
            "[Parallel(n_jobs=-1)]: Done 150 out of 150 | elapsed: 34.1min finished\n"
          ],
          "name": "stderr"
        },
        {
          "output_type": "execute_result",
          "data": {
            "text/plain": [
              "RandomizedSearchCV(cv=3, error_score=nan,\n",
              "                   estimator=CRF(algorithm='lbfgs', all_possible_states=None,\n",
              "                                 all_possible_transitions=False, averaging=None,\n",
              "                                 c=None, c1=0.1, c2=0.1,\n",
              "                                 calibration_candidates=None,\n",
              "                                 calibration_eta=None,\n",
              "                                 calibration_max_trials=None,\n",
              "                                 calibration_rate=None,\n",
              "                                 calibration_samples=None, delta=None,\n",
              "                                 epsilon=None, error_sensitive=None, gamma=None,\n",
              "                                 keep_t...\n",
              "                                        'c2': <scipy.stats._distn_infrastructure.rv_frozen object at 0x7f0633ea00f0>},\n",
              "                   pre_dispatch='2*n_jobs', random_state=None, refit=True,\n",
              "                   return_train_score=False,\n",
              "                   scoring=make_scorer(flat_f1_score, average=weighted, labels=['B-location', 'I-location', 'B-title', 'I-title', 'B-company', 'B-product', 'B-person', 'B-other', 'I-other', 'B-group', 'I-group', 'I-product', 'I-company', 'I-person']),\n",
              "                   verbose=1)"
            ]
          },
          "metadata": {
            "tags": []
          },
          "execution_count": 141
        }
      ]
    },
    {
      "cell_type": "markdown",
      "metadata": {
        "id": "en-V95Voyknk",
        "colab_type": "text"
      },
      "source": [
        "# Best Parameters"
      ]
    },
    {
      "cell_type": "code",
      "metadata": {
        "id": "mNKWqjduynlm",
        "colab_type": "code",
        "outputId": "593ef4ca-a69a-4f17-e3ac-358c0e3399ad",
        "colab": {
          "base_uri": "https://localhost:8080/",
          "height": 66
        }
      },
      "source": [
        "print('best params:', rs.best_params_)\n",
        "print('best CV score:', rs.best_score_)\n",
        "print('model size: {:0.2f}M'.format(rs.best_estimator_.size_ / 1000000))"
      ],
      "execution_count": 142,
      "outputs": [
        {
          "output_type": "stream",
          "text": [
            "best params: {'c1': 0.12873556177131187, 'c2': 0.003090506667659071}\n",
            "best CV score: 0.46966321802772804\n",
            "model size: 0.50M\n"
          ],
          "name": "stdout"
        }
      ]
    },
    {
      "cell_type": "code",
      "metadata": {
        "id": "yx3EuRlo5kvv",
        "colab_type": "code",
        "outputId": "000ef615-100d-445d-fccf-a5eae6d63c65",
        "colab": {
          "base_uri": "https://localhost:8080/",
          "height": 423
        }
      },
      "source": [
        "crf = rs.best_estimator_\n",
        "y_pred = crf.predict(X_dev)\n",
        "print(metrics.flat_classification_report(\n",
        "    y_dev, y_pred, labels=sorted_labels, digits=3\n",
        "))\n",
        "\n",
        "accuracy = metrics.flat_accuracy_score(y_dev, y_pred)\n",
        "print(\"accuracy :\" + str(accuracy))\n",
        "precision = metrics.flat_precision_score(y_dev, y_pred, average='weighted', labels=labels)\n",
        "print(\"Precision : \"  + str(precision))\n",
        "recall = metrics.flat_recall_score(y_dev, y_pred, average='weighted', labels=labels)\n",
        "print(\"Recall : \" + str(recall))\n",
        "f1 = metrics.flat_f1_score(y_dev, y_pred, average='weighted', labels=labels)\n",
        "print(\"F1 weighted avg: \" + str(f1))"
      ],
      "execution_count": 143,
      "outputs": [
        {
          "output_type": "stream",
          "text": [
            "              precision    recall  f1-score   support\n",
            "\n",
            "   B-company      0.615     0.205     0.308        39\n",
            "   I-company      0.000     0.000     0.000        10\n",
            "     B-group      0.250     0.027     0.049       111\n",
            "     I-group      0.000     0.000     0.000        48\n",
            "  B-location      0.619     0.455     0.524       154\n",
            "  I-location      0.614     0.432     0.507        81\n",
            "     B-other      0.438     0.159     0.233       132\n",
            "     I-other      0.218     0.278     0.244        97\n",
            "    B-person      0.569     0.532     0.550       171\n",
            "    I-person      0.550     0.632     0.588        95\n",
            "   B-product      0.750     0.081     0.146        37\n",
            "   I-product      0.667     0.017     0.032       121\n",
            "     B-title      0.000     0.000     0.000        17\n",
            "     I-title      0.000     0.000     0.000        15\n",
            "\n",
            "   micro avg      0.479     0.284     0.356      1128\n",
            "   macro avg      0.378     0.201     0.227      1128\n",
            "weighted avg      0.473     0.284     0.313      1128\n",
            "\n",
            "accuracy :0.9405325625730275\n",
            "Precision : 0.47315827534043636\n",
            "Recall : 0.28368794326241137\n",
            "F1 weighted avg: 0.312922335002496\n"
          ],
          "name": "stdout"
        }
      ]
    },
    {
      "cell_type": "code",
      "metadata": {
        "id": "tVLpN_ce61Ze",
        "colab_type": "code",
        "outputId": "4eb7596b-8ca5-4af7-c312-0d4eaaa86d0f",
        "colab": {
          "base_uri": "https://localhost:8080/",
          "height": 716
        }
      },
      "source": [
        "from collections import Counter\n",
        "\n",
        "def print_transitions(trans_features):\n",
        "    for (label_from, label_to), weight in trans_features:\n",
        "        print(\"%-6s -> %-7s %0.6f\" % (label_from, label_to, weight))\n",
        "\n",
        "print(\"Top likely transitions:\")\n",
        "print_transitions(Counter(crf.transition_features_).most_common(20))\n",
        "\n",
        "print(\"\\nTop unlikely transitions:\")\n",
        "print_transitions(Counter(crf.transition_features_).most_common()[-20:])"
      ],
      "execution_count": 144,
      "outputs": [
        {
          "output_type": "stream",
          "text": [
            "Top likely transitions:\n",
            "B-location -> I-location 8.617318\n",
            "B-title -> I-title 8.245135\n",
            "B-person -> I-person 8.192486\n",
            "B-group -> I-group 8.142497\n",
            "B-product -> I-product 7.960793\n",
            "B-other -> I-other 7.778814\n",
            "I-title -> I-title 7.712788\n",
            "I-product -> I-product 7.283203\n",
            "I-other -> I-other 6.837604\n",
            "I-group -> I-group 6.794987\n",
            "I-location -> I-location 6.623692\n",
            "B-company -> I-company 6.422857\n",
            "I-company -> I-company 5.723954\n",
            "I-person -> I-person 4.821123\n",
            "O      -> O       4.129329\n",
            "O      -> B-person 2.577534\n",
            "O      -> B-product 2.227587\n",
            "O      -> B-company 2.205858\n",
            "O      -> B-title 2.012863\n",
            "O      -> B-group 1.936574\n",
            "\n",
            "Top unlikely transitions:\n",
            "B-company -> O       0.212714\n",
            "I-person -> O       0.061693\n",
            "I-other -> O       0.059648\n",
            "B-location -> O       0.056948\n",
            "I-product -> O       0.021211\n",
            "B-location -> B-other 0.000630\n",
            "I-company -> B-location 0.000225\n",
            "I-location -> B-group 0.000022\n",
            "I-title -> O       -0.000079\n",
            "B-product -> O       -0.056850\n",
            "B-other -> O       -0.066541\n",
            "B-group -> O       -0.079164\n",
            "I-company -> O       -0.111483\n",
            "I-group -> O       -0.115887\n",
            "I-other -> B-other -0.235561\n",
            "I-location -> O       -0.286328\n",
            "I-location -> B-location -0.289109\n",
            "I-other -> B-person -0.309768\n",
            "B-other -> B-person -0.344894\n",
            "B-title -> O       -1.049553\n"
          ],
          "name": "stdout"
        }
      ]
    },
    {
      "cell_type": "code",
      "metadata": {
        "id": "xh3d0PMU7HpF",
        "colab_type": "code",
        "outputId": "f09ee30f-4567-48f0-b5ad-4f1151af66d4",
        "colab": {
          "base_uri": "https://localhost:8080/",
          "height": 1000
        }
      },
      "source": [
        "def print_state_features(state_features):\n",
        "    for (attr, label), weight in state_features:\n",
        "        print(\"%0.6f %-8s %s\" % (weight, label, attr))\n",
        "\n",
        "print(\"Top positive:\")\n",
        "print_state_features(Counter(crf.state_features_).most_common(30))\n",
        "\n",
        "print(\"\\nTop negative:\")\n",
        "print_state_features(Counter(crf.state_features_).most_common()[-30:])"
      ],
      "execution_count": 145,
      "outputs": [
        {
          "output_type": "stream",
          "text": [
            "Top positive:\n",
            "13.169553 B-company stem:twitter\n",
            "12.260513 B-person stem:pope\n",
            "10.855152 B-product stem:iphon\n",
            "9.791072 B-company stem:facebook\n",
            "9.626040 B-product stem:ipod\n",
            "9.445102 B-person stem:4dbling\n",
            "8.479214 B-product +1:stem:devic\n",
            "8.332874 B-location stem:jupit\n",
            "8.022778 B-other  stem:dynamit\n",
            "7.813562 B-group  stem:#padr\n",
            "7.499507 B-company stem:walmart\n",
            "7.483995 B-title  stem:eurovis\n",
            "7.342285 B-product stem:pringl\n",
            "7.337845 B-location +1:stem:mansion\n",
            "7.257145 B-other  word[-2:]:BL\n",
            "7.187339 B-company stem:playboy\n",
            "7.145666 B-person stem:bieber\n",
            "7.102043 B-title  stem:icarli\n",
            "7.061583 B-other  stem:thanksgiv\n",
            "6.976447 B-product stem:xbox\n",
            "6.785169 B-other  stem:rockhous\n",
            "6.363909 B-other  stem:treasuri\n",
            "5.935536 B-other  stem:dem\n",
            "5.925091 B-company stem:yahoo\n",
            "5.795075 B-person stem:snoop\n",
            "5.774077 B-company stem:reuter\n",
            "5.743445 B-group  +1:stem:gear\n",
            "5.737556 B-location stem:kilkenni\n",
            "5.724298 B-location word[-3:]:ham\n",
            "5.705277 B-person stem:beyonc\n",
            "\n",
            "Top negative:\n",
            "-2.389014 O        stem:rose\n",
            "-2.401817 O        +1:stem:footbal\n",
            "-2.403591 O        +1:stem:concert\n",
            "-2.421579 O        +1:stem:fan\n",
            "-2.458210 O        word[-2:]:ni\n",
            "-2.554310 O        word[-2:]:ix\n",
            "-2.592097 O        word[-2:]:ka\n",
            "-2.622118 O        word[-2:]:OS\n",
            "-2.626014 O        +1:stem:state\n",
            "-2.715354 O        word[-3:]:rks\n",
            "-2.792287 O        +1:stem:@\n",
            "-2.867594 O        hasCapitalLetter\n",
            "-2.892469 O        word[-3:]:bin\n",
            "-2.922169 O        stem:ipad\n",
            "-2.957608 O        +1:stem:power\n",
            "-2.974149 O        +1:stem:famili\n",
            "-3.009545 O        word[-2:]:BB\n",
            "-3.059653 O        stem:london\n",
            "-3.071637 O        +1:stem:IS\n",
            "-3.383506 O        word[-2:]:GP\n",
            "-3.413740 O        word[-3:]:ube\n",
            "-3.444025 O        word[-3:]:ggy\n",
            "-3.446662 I-location -1:inLocations\n",
            "-3.466677 O        stem:inform\n",
            "-3.707927 O        word[-3:]:nte\n",
            "-3.719904 O        +1:stem:sign\n",
            "-3.791390 O        word[-2:]:mi\n",
            "-3.834905 O        word[-3:]:lds\n",
            "-4.090068 O        +1:stem:!!!!!!!\n",
            "-4.124705 O        stem:itun\n"
          ],
          "name": "stdout"
        }
      ]
    },
    {
      "cell_type": "code",
      "metadata": {
        "id": "f8OxPL0ZNKgz",
        "colab_type": "code",
        "outputId": "548e4907-3239-4699-e8af-4fea2aaf73b0",
        "colab": {
          "base_uri": "https://localhost:8080/",
          "height": 102
        }
      },
      "source": [
        "crf = rs.best_estimator_\n",
        "y_pred = crf.predict(X_test)\n",
        "print(y_pred[0][0])\n",
        "print(X_test[0][0])\n",
        "print(len(X_test))\n",
        "print(len(y_pred))"
      ],
      "execution_count": 146,
      "outputs": [
        {
          "output_type": "stream",
          "text": [
            "O\n",
            "{'bias': 1.0, 'word[-3:]': 'We', 'word[-2:]': 'We', 'word.isupper()': False, 'word.istitle()': True, 'word.isdigit()': False, 'postag': 'PRP', 'postag[:2]': 'PR', 'inLocations': False, 'inNames': False, 'isTag': -1, 'hasCapitalLetter': True, 'stem': 'We', 'BOS': True, '+1:word.istitle()': False, '+1:word.isupper()': False, '+1:postag': 'VBP', '+1:postag[:2]': 'VB', '+1:inLocations': False, '+1:inNames': False, '+1:hasCapitalLetter': False, '+1:stem': \"'re\"}\n",
            "4270\n",
            "4270\n"
          ],
          "name": "stdout"
        }
      ]
    },
    {
      "cell_type": "code",
      "metadata": {
        "id": "z37uWqAbEAs1",
        "colab_type": "code",
        "colab": {}
      },
      "source": [
        "outR = open(\"test_no_tag.txt\", \"r\")\n",
        "outF = open(\"result.txt\", \"w\")\n",
        "lines = outR.readlines()\n",
        "pred_line = 0\n",
        "pred_word = 0\n",
        "for line in lines:\n",
        "  if(len(line)>1):\n",
        "    outF.write(line.replace('\\n','')+\"\\t\\t\"+y_pred[pred_line][pred_word]+\"\\n\")\n",
        "    pred_word = pred_word + 1\n",
        "  else:\n",
        "    outF.write(\"\\n\")\n",
        "    pred_word = 0\n",
        "    pred_line = pred_line + 1\n",
        "\n",
        "\n",
        "outR.close()\n",
        "outF.close()"
      ],
      "execution_count": 0,
      "outputs": []
    }
  ]
}